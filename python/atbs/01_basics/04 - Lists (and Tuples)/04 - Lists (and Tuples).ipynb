{
 "cells": [
  {
   "cell_type": "markdown",
   "metadata": {},
   "source": [
    "# 4 Lists (and Tuples)\n",
    "Lists (and tuples) are data types that can contain multiple values, including other lists.  \n",
    "\n",
    "## The List Data Type\n",
    "A **list** is a value that contains multiple values of any in an ordered sequence.  They are denoted by enclosing brackets and are comma-delimited (ie [1,2,3,4]).  The values within the list are called **items**, *not* list values. **List values** are the lists themselves.  They are their own data type and can be stored in variables and passed to functions.  "
   ]
  },
  {
   "cell_type": "code",
   "execution_count": 1,
   "metadata": {},
   "outputs": [
    {
     "data": {
      "text/plain": [
       "['cat', 'bat', 'rat', 'elephant']"
      ]
     },
     "execution_count": 1,
     "metadata": {},
     "output_type": "execute_result"
    }
   ],
   "source": [
    "spam = ['cat','bat','rat', 'elephant']\n",
    "spam"
   ]
  },
  {
   "cell_type": "markdown",
   "metadata": {},
   "source": [
    "### Getting individual values in a list with indexes\n",
    "To get individual values from a list, you use the list itself or the variable that holds the list (in the example above, *spam*), followed by brackets that enclose an **index** (spam[0] == 'cat'), which is an integer that represents the location of an item in a list.  In Python, list indexes start with 0, which is why spam[0] is equal to 'cat' in the above example.  \n",
    "\n",
    "When lists contain other lists, you can access their items by adding another bracketed index to the original item retrieval:"
   ]
  },
  {
   "cell_type": "code",
   "execution_count": 3,
   "metadata": {},
   "outputs": [
    {
     "data": {
      "text/plain": [
       "'rat'"
      ]
     },
     "execution_count": 3,
     "metadata": {},
     "output_type": "execute_result"
    }
   ],
   "source": [
    "spam = [['cat','bat','rat', 'elephant'],'bat','rat', 'elephant']\n",
    "spam[0][2]"
   ]
  },
  {
   "cell_type": "markdown",
   "metadata": {},
   "source": [
    "In this example, we retrieved the third item (2nd index) of the list held in the first item (0th index) of the list held in *spam*.  \n",
    "\n",
    "### Negative Indexes\n",
    "You can use negative indexes to retrieve items starting from the end of a list.  In the example above, *spam[-1]* is equal to 'elephant'.\n",
    "\n",
    "### Getting a list from another list with slices\n",
    "You can retrieve a larger portion of list (in the form of another list) with **slices**. Slices are similar to indexes, but instead of one integer, slices contain two integers separated by a colon.\n",
    "* spam[2] is a list with an index (one integer).\n",
    "* spam[1:4] is a list with a slice (two integers).\n",
    "\n",
    "In a slice, the first value represents the index in the original list where the slice starts and the second represents where it ends (non-inclusive).  You can also leave out either value, which is the equivalent to using zero as the first value if you leave out the first, or using the length if you leave out the second."
   ]
  },
  {
   "cell_type": "code",
   "execution_count": 5,
   "metadata": {},
   "outputs": [
    {
     "name": "stdout",
     "output_type": "stream",
     "text": [
      "['cat', 'bat']\n",
      "['bat', 'rat', 'elephant']\n",
      "['cat', 'bat', 'rat', 'elephant']\n"
     ]
    }
   ],
   "source": [
    "spam = ['cat', 'bat', 'rat', 'elephant']\n",
    "print(spam[:2])\n",
    "print(spam[1:])\n",
    "print(spam[:])"
   ]
  },
  {
   "cell_type": "markdown",
   "metadata": {},
   "source": [
    "### Getting a list's length with the len() function\n",
    "You can get the length of a list by passing the list to *len()*"
   ]
  },
  {
   "cell_type": "code",
   "execution_count": 6,
   "metadata": {},
   "outputs": [
    {
     "data": {
      "text/plain": [
       "4"
      ]
     },
     "execution_count": 6,
     "metadata": {},
     "output_type": "execute_result"
    }
   ],
   "source": [
    "len(spam)"
   ]
  },
  {
   "cell_type": "markdown",
   "metadata": {},
   "source": [
    "### Changing values in a list with indexes\n",
    "To set the value of a list item, you can simply use the retrieval syntax as you would a variable name in an assignment statement. For example, to set the value of the second item of *spam* you can write:"
   ]
  },
  {
   "cell_type": "code",
   "execution_count": 7,
   "metadata": {},
   "outputs": [
    {
     "data": {
      "text/plain": [
       "['cat', 'lion', 'rat', 'elephant']"
      ]
     },
     "execution_count": 7,
     "metadata": {},
     "output_type": "execute_result"
    }
   ],
   "source": [
    "spam[1] = 'lion'\n",
    "spam"
   ]
  },
  {
   "cell_type": "markdown",
   "metadata": {},
   "source": [
    "### List concatenation and replication\n",
    "Like strings, lists can be concatenated and replicated using the *+* and *\\** operators, respectively.  "
   ]
  },
  {
   "cell_type": "code",
   "execution_count": 8,
   "metadata": {},
   "outputs": [
    {
     "data": {
      "text/plain": [
       "[1, 2, 3, 'A', 'B', 'C']"
      ]
     },
     "execution_count": 8,
     "metadata": {},
     "output_type": "execute_result"
    }
   ],
   "source": [
    "[1, 2, 3] + ['A', 'B', 'C']"
   ]
  },
  {
   "cell_type": "code",
   "execution_count": 9,
   "metadata": {},
   "outputs": [
    {
     "data": {
      "text/plain": [
       "['X', 'Y', 'Z', 'X', 'Y', 'Z', 'X', 'Y', 'Z']"
      ]
     },
     "execution_count": 9,
     "metadata": {},
     "output_type": "execute_result"
    }
   ],
   "source": [
    "['X', 'Y', 'Z'] * 3"
   ]
  },
  {
   "cell_type": "markdown",
   "metadata": {},
   "source": [
    "### Removing values from lists with *del* statements\n",
    "To remove a list item, you can precede the standard list retrieval syntax with the *del* keyword:"
   ]
  },
  {
   "cell_type": "code",
   "execution_count": 10,
   "metadata": {},
   "outputs": [
    {
     "data": {
      "text/plain": [
       "['cat', 'lion', 'elephant']"
      ]
     },
     "execution_count": 10,
     "metadata": {},
     "output_type": "execute_result"
    }
   ],
   "source": [
    "del spam[2]\n",
    "spam"
   ]
  },
  {
   "cell_type": "markdown",
   "metadata": {},
   "source": [
    "***Sidenote:** you can use the del keyword on variables to remove them from your program.  They will no longer exist.  However, you will rarely need to do this"
   ]
  },
  {
   "cell_type": "markdown",
   "metadata": {},
   "source": [
    "## Working with lists\n",
    "### Using *for* loops with lists\n",
    "Previously, we've used *for* loops with the *range()* function, which returns a 'Sequence Value', a data type that is similar to lists.  Each iteration returns the index of the sequence.  Something similar can be achieved with lists if you combine *range()* with *len(list)* like so:"
   ]
  },
  {
   "cell_type": "code",
   "execution_count": 1,
   "metadata": {},
   "outputs": [
    {
     "name": "stdout",
     "output_type": "stream",
     "text": [
      "Index 0 in supplies is: pens\n",
      "Index 1 in supplies is: staplers\n",
      "Index 2 in supplies is: flamethrowers\n",
      "Index 3 in supplies is: binders\n"
     ]
    }
   ],
   "source": [
    "supplies = ['pens', 'staplers', 'flamethrowers', 'binders']\n",
    "for i in range(len(supplies)):\n",
    "    print('Index ' + str(i) + ' in supplies is: ' + supplies[i])"
   ]
  },
  {
   "cell_type": "markdown",
   "metadata": {},
   "source": [
    "This method - *range(len(list))* - is useful because you have access both to the index value and the list item via bracket retrieval notation. \n",
    "\n",
    "### The *in* and *not in* operators\n",
    "The *in* and *not in* operators are used to determine whether or not a value is or is not in a list.  These operators are used in expressions that evaluate to Booleans and separate two values: the search value and the list to be searched. "
   ]
  },
  {
   "cell_type": "code",
   "execution_count": 2,
   "metadata": {},
   "outputs": [
    {
     "data": {
      "text/plain": [
       "True"
      ]
     },
     "execution_count": 2,
     "metadata": {},
     "output_type": "execute_result"
    }
   ],
   "source": [
    "'howdy' in ['hello', 'hi', 'howdy', 'heyas']"
   ]
  },
  {
   "cell_type": "code",
   "execution_count": 5,
   "metadata": {},
   "outputs": [
    {
     "data": {
      "text/plain": [
       "False"
      ]
     },
     "execution_count": 5,
     "metadata": {},
     "output_type": "execute_result"
    }
   ],
   "source": [
    "spam = ['hello', 'hi', 'howdy', 'heyas']\n",
    "'cat' in spam"
   ]
  },
  {
   "cell_type": "code",
   "execution_count": 6,
   "metadata": {},
   "outputs": [
    {
     "data": {
      "text/plain": [
       "False"
      ]
     },
     "execution_count": 6,
     "metadata": {},
     "output_type": "execute_result"
    }
   ],
   "source": [
    "'howdy' not in spam"
   ]
  },
  {
   "cell_type": "code",
   "execution_count": 7,
   "metadata": {},
   "outputs": [
    {
     "data": {
      "text/plain": [
       "True"
      ]
     },
     "execution_count": 7,
     "metadata": {},
     "output_type": "execute_result"
    }
   ],
   "source": [
    "'cat' not in spam"
   ]
  },
  {
   "cell_type": "code",
   "execution_count": 8,
   "metadata": {},
   "outputs": [
    {
     "name": "stdout",
     "output_type": "stream",
     "text": [
      "Enter a pet name:\n",
      "Kitty Kat\n",
      "I do not have a pet named Kitty Kat\n"
     ]
    }
   ],
   "source": [
    "myPets = ['Zophie', 'Pooka', 'Fat-tail']\n",
    "print('Enter a pet name:')\n",
    "name = input()\n",
    "if name not in myPets:\n",
    "    print('I do not have a pet named ' + name)\n",
    "else:\n",
    "    print(name + ' is my pet.')"
   ]
  },
  {
   "cell_type": "markdown",
   "metadata": {},
   "source": [
    "### The Multiple Assignment Trick (aka Tuple Unpacking)\n",
    "This shortcut lets you assign multiple variables with values in a list on one line of code.  Instead of:"
   ]
  },
  {
   "cell_type": "code",
   "execution_count": 9,
   "metadata": {},
   "outputs": [],
   "source": [
    "cat = ['fat','gray','loud']\n",
    "size = cat[0]\n",
    "color = cat[1]\n",
    "disposition = cat[2]"
   ]
  },
  {
   "cell_type": "markdown",
   "metadata": {},
   "source": [
    "you can write this:"
   ]
  },
  {
   "cell_type": "code",
   "execution_count": 10,
   "metadata": {},
   "outputs": [],
   "source": [
    "cat = ['fat', 'gray','loud']\n",
    "size, color, disposition = cat"
   ]
  },
  {
   "cell_type": "markdown",
   "metadata": {},
   "source": [
    "If the number of variables and the length of the list aren't exactly equal then Python will give a 'ValueError'.\n",
    "\n",
    "### Using the *enumerate()* funciton with lists\n",
    "An alternative to the *range(len(list))* structure is the *enumerate()* function.  To use this function, the *for* loop is structured a little differently.  It takes two parameters - *index* and *item* (they don't have to have these names but they have to be in this order) - followed by the *in* keyword and *enumerate(list)*."
   ]
  },
  {
   "cell_type": "code",
   "execution_count": 11,
   "metadata": {},
   "outputs": [
    {
     "name": "stdout",
     "output_type": "stream",
     "text": [
      "Index 0 in supplies is: pens\n",
      "Index 1 in supplies is: staplers\n",
      "Index 2 in supplies is: flamethrowers\n",
      "Index 3 in supplies is: binders\n"
     ]
    }
   ],
   "source": [
    "supplies = ['pens', 'staplers', 'flamethrowers', 'binders']\n",
    "for index, item in enumerate(supplies):\n",
    "    print('Index ' + str(index) + ' in supplies is: ' + item)"
   ]
  },
  {
   "cell_type": "markdown",
   "metadata": {},
   "source": [
    "### Using the *random.choice()* and *random.shuffle()* functions with lists\n",
    "These two functions require the *random* import and will pick a random item from a list and reorder the items in a list, respectively. "
   ]
  },
  {
   "cell_type": "code",
   "execution_count": 18,
   "metadata": {},
   "outputs": [
    {
     "name": "stdout",
     "output_type": "stream",
     "text": [
      "Here are some random pet choices:\n",
      "Moose\n",
      "Moose\n",
      "Moose\n",
      "Cat\n",
      "Moose\n",
      "Dog\n",
      "Dog\n",
      "Dog\n",
      "Dog\n",
      "Moose\n",
      "\n",
      "Here is an AMAZING demonstration of random.shuffle()\n",
      "Original order: ['Dog', 'Cat', 'Moose']\n",
      "Shuffled: ['Moose', 'Cat', 'Dog']\n"
     ]
    }
   ],
   "source": [
    "import random\n",
    "pets =['Dog','Cat','Moose']\n",
    "print('Here are some random pet choices:')\n",
    "for i in range(10):\n",
    "    print(random.choice(pets))\n",
    "\n",
    "print('')\n",
    "print('Here is an AMAZING demonstration of random.shuffle()')\n",
    "print('Original order: ' + str(pets))\n",
    "random.shuffle(pets)\n",
    "print('Shuffled: ' + str(pets))"
   ]
  },
  {
   "cell_type": "markdown",
   "metadata": {},
   "source": [
    "## Augmented Assignment Operators\n",
    "You will often want to change the value of a variable based on its original value.  To do this with simple arithmetic operations, you can typically combine them with the assignment operator as a shortcut.  The example below shows the longer method of performing such operations followed by the augmented assignment version:"
   ]
  },
  {
   "cell_type": "code",
   "execution_count": 20,
   "metadata": {},
   "outputs": [
    {
     "data": {
      "text/plain": [
       "4"
      ]
     },
     "execution_count": 20,
     "metadata": {},
     "output_type": "execute_result"
    }
   ],
   "source": [
    "spam = 3\n",
    "spam = spam + 1\n",
    "spam"
   ]
  },
  {
   "cell_type": "code",
   "execution_count": 22,
   "metadata": {},
   "outputs": [
    {
     "data": {
      "text/plain": [
       "4"
      ]
     },
     "execution_count": 22,
     "metadata": {},
     "output_type": "execute_result"
    }
   ],
   "source": [
    "spam = 3\n",
    "spam += 1\n",
    "spam"
   ]
  },
  {
   "cell_type": "markdown",
   "metadata": {},
   "source": [
    "As you can see, they result in the same value.  You can do augment assignment operators with all of the following arithmetic operators: +, -, \\*, /, %. \n",
    "\n",
    "You can also use the addition and multiplication augmented assignment operators to perform concatenation and replication:"
   ]
  },
  {
   "cell_type": "code",
   "execution_count": 24,
   "metadata": {},
   "outputs": [
    {
     "data": {
      "text/plain": [
       "'Hello world!'"
      ]
     },
     "execution_count": 24,
     "metadata": {},
     "output_type": "execute_result"
    }
   ],
   "source": [
    "spam = 'Hello'\n",
    "spam += ' world!'\n",
    "spam"
   ]
  },
  {
   "cell_type": "code",
   "execution_count": 26,
   "metadata": {},
   "outputs": [
    {
     "data": {
      "text/plain": [
       "['Zophie', 'Zophie', 'Zophie']"
      ]
     },
     "execution_count": 26,
     "metadata": {},
     "output_type": "execute_result"
    }
   ],
   "source": [
    "bacon = ['Zophie']\n",
    "bacon *= 3\n",
    "bacon"
   ]
  },
  {
   "cell_type": "markdown",
   "metadata": {},
   "source": [
    "## Methods\n",
    "A **method** is the same thing as a function except it is attached to a value and called from that value.  We've already used methods when we've called functions on imported modules. They are called by following the name of the value you are calling from with a period and the name of the method. Each data type also has built-in methods.  For example, lists have access the *index()* method which you can call like this:"
   ]
  },
  {
   "cell_type": "code",
   "execution_count": 2,
   "metadata": {},
   "outputs": [
    {
     "data": {
      "text/plain": [
       "1"
      ]
     },
     "execution_count": 2,
     "metadata": {},
     "output_type": "execute_result"
    }
   ],
   "source": [
    "spam = ['hello', 'hi', 'howdy']\n",
    "spam.index('hi')"
   ]
  },
  {
   "cell_type": "markdown",
   "metadata": {},
   "source": [
    "The *index()* method is passed a value and if the value exists in the list, it will return the appropriate index.  If not, it will return a ValueError.  \n",
    "\n",
    "Lists have a number of methods that are useful for finding, adding, removing, and manipulating their values.  \n",
    "\n",
    "### Adding values to lists with the *append()* and *insert()* methods\n",
    "The *append()* method will add values to the end of a list and the *insert()* method will add values to the specified index.  *append()* takes one argument - the value to add - and *insert()* takes two - the index of the new value and the new value.  It is important to note that these methods manipulate the list *in place*, that is, they aren't returning any value, they are simply changing the list itself.  So there is no assignment taking place when using these methods."
   ]
  },
  {
   "cell_type": "code",
   "execution_count": 4,
   "metadata": {},
   "outputs": [
    {
     "data": {
      "text/plain": [
       "['cat', 'dog', 'bat', 'moose']"
      ]
     },
     "execution_count": 4,
     "metadata": {},
     "output_type": "execute_result"
    }
   ],
   "source": [
    "spam = ['cat','dog','bat']\n",
    "spam.append('moose')\n",
    "spam"
   ]
  },
  {
   "cell_type": "code",
   "execution_count": 5,
   "metadata": {},
   "outputs": [
    {
     "data": {
      "text/plain": [
       "['cat', 'chicken', 'dog', 'bat', 'moose']"
      ]
     },
     "execution_count": 5,
     "metadata": {},
     "output_type": "execute_result"
    }
   ],
   "source": [
    "spam.insert(1,'chicken')\n",
    "spam"
   ]
  },
  {
   "cell_type": "markdown",
   "metadata": {},
   "source": [
    "### Removing values from lists with the *remove()* method\n",
    "The *remove()* method removes a value from a list.  It takes one argument - the value that you want to remove (not the index of the value you want to remove; for this use the *del* keyword). If you try to delete something that isn't on the list, Python will throw a ValueError.  If the value appears multiple times in the list, it will only remove the first instance.  "
   ]
  },
  {
   "cell_type": "code",
   "execution_count": 6,
   "metadata": {},
   "outputs": [
    {
     "data": {
      "text/plain": [
       "['cat', 'chicken', 'dog', 'moose']"
      ]
     },
     "execution_count": 6,
     "metadata": {},
     "output_type": "execute_result"
    }
   ],
   "source": [
    "spam = ['cat', 'chicken', 'dog', 'bat', 'moose']\n",
    "spam.remove('bat')\n",
    "spam"
   ]
  },
  {
   "cell_type": "code",
   "execution_count": 8,
   "metadata": {},
   "outputs": [
    {
     "ename": "ValueError",
     "evalue": "list.remove(x): x not in list",
     "output_type": "error",
     "traceback": [
      "\u001b[0;31m---------------------------------------------------------------------------\u001b[0m",
      "\u001b[0;31mValueError\u001b[0m                                Traceback (most recent call last)",
      "\u001b[0;32m<ipython-input-8-77bcc6fd8246>\u001b[0m in \u001b[0;36m<module>\u001b[0;34m\u001b[0m\n\u001b[0;32m----> 1\u001b[0;31m \u001b[0mspam\u001b[0m\u001b[0;34m.\u001b[0m\u001b[0mremove\u001b[0m\u001b[0;34m(\u001b[0m\u001b[0;34m'bat'\u001b[0m\u001b[0;34m)\u001b[0m\u001b[0;34m\u001b[0m\u001b[0;34m\u001b[0m\u001b[0m\n\u001b[0m",
      "\u001b[0;31mValueError\u001b[0m: list.remove(x): x not in list"
     ]
    }
   ],
   "source": [
    "spam.remove('bat')"
   ]
  },
  {
   "cell_type": "code",
   "execution_count": 12,
   "metadata": {},
   "outputs": [
    {
     "data": {
      "text/plain": [
       "['chicken', 'dog', 'moose', 'cat']"
      ]
     },
     "execution_count": 12,
     "metadata": {},
     "output_type": "execute_result"
    }
   ],
   "source": [
    "spam = ['cat', 'chicken', 'dog', 'moose', 'cat']\n",
    "spam.remove('cat')\n",
    "spam"
   ]
  },
  {
   "cell_type": "markdown",
   "metadata": {},
   "source": [
    "### Sorting the values in a list with the *sort()* method\n",
    "The *sort()* method will sort a list of either all numbers or all strings in ascending or descending order.  You cannot sort a list that combines multiple data types because they can't be compared. "
   ]
  },
  {
   "cell_type": "code",
   "execution_count": 13,
   "metadata": {},
   "outputs": [
    {
     "data": {
      "text/plain": [
       "['cat', 'cat', 'chicken', 'dog', 'moose']"
      ]
     },
     "execution_count": 13,
     "metadata": {},
     "output_type": "execute_result"
    }
   ],
   "source": [
    "spam = ['cat', 'chicken', 'dog', 'moose', 'cat']\n",
    "spam.sort()\n",
    "spam"
   ]
  },
  {
   "cell_type": "code",
   "execution_count": 14,
   "metadata": {},
   "outputs": [
    {
     "data": {
      "text/plain": [
       "[-23, 1.5, 3, 6, 8, 12, 77, 345, 567]"
      ]
     },
     "execution_count": 14,
     "metadata": {},
     "output_type": "execute_result"
    }
   ],
   "source": [
    "numbers = [12, 3, 6, 77, 345, 8, 567, -23, 1.5]\n",
    "numbers.sort()\n",
    "numbers"
   ]
  },
  {
   "cell_type": "code",
   "execution_count": 15,
   "metadata": {},
   "outputs": [
    {
     "ename": "TypeError",
     "evalue": "'<' not supported between instances of 'int' and 'str'",
     "output_type": "error",
     "traceback": [
      "\u001b[0;31m---------------------------------------------------------------------------\u001b[0m",
      "\u001b[0;31mTypeError\u001b[0m                                 Traceback (most recent call last)",
      "\u001b[0;32m<ipython-input-15-7bedfc2f6a43>\u001b[0m in \u001b[0;36m<module>\u001b[0;34m\u001b[0m\n\u001b[1;32m      1\u001b[0m \u001b[0mspam\u001b[0m \u001b[0;34m=\u001b[0m \u001b[0mspam\u001b[0m \u001b[0;34m+\u001b[0m \u001b[0mnumbers\u001b[0m\u001b[0;34m\u001b[0m\u001b[0;34m\u001b[0m\u001b[0m\n\u001b[0;32m----> 2\u001b[0;31m \u001b[0mspam\u001b[0m\u001b[0;34m.\u001b[0m\u001b[0msort\u001b[0m\u001b[0;34m(\u001b[0m\u001b[0;34m)\u001b[0m\u001b[0;34m\u001b[0m\u001b[0;34m\u001b[0m\u001b[0m\n\u001b[0m",
      "\u001b[0;31mTypeError\u001b[0m: '<' not supported between instances of 'int' and 'str'"
     ]
    }
   ],
   "source": [
    "spam = spam + numbers\n",
    "spam.sort()"
   ]
  },
  {
   "cell_type": "markdown",
   "metadata": {},
   "source": [
    "You can reverse the sort order by passing *reverse=True*.  It is also important to note that *sort()* orders strings using 'ASCIIbetical order', which prioritizes capital letters over lowercase and will order capitalized words before lowercase words.  To fix this, you can use the *key* parameter and convert each item to lowercase."
   ]
  },
  {
   "cell_type": "code",
   "execution_count": 16,
   "metadata": {},
   "outputs": [
    {
     "data": {
      "text/plain": [
       "['moose', 'dog', 'chicken', 'cat', 'cat']"
      ]
     },
     "execution_count": 16,
     "metadata": {},
     "output_type": "execute_result"
    }
   ],
   "source": [
    "# reverse\n",
    "spam = ['cat', 'chicken', 'dog', 'moose', 'cat']\n",
    "spam.sort(reverse=True)\n",
    "spam"
   ]
  },
  {
   "cell_type": "code",
   "execution_count": 18,
   "metadata": {},
   "outputs": [
    {
     "data": {
      "text/plain": [
       "['Chicken', 'Mouse', 'cat', 'cat', 'dog', 'moose']"
      ]
     },
     "execution_count": 18,
     "metadata": {},
     "output_type": "execute_result"
    }
   ],
   "source": [
    "# alphabetical order\n",
    "spam = ['cat', 'Chicken', 'dog', 'moose', 'Mouse', 'cat']\n",
    "spam.sort()\n",
    "spam"
   ]
  },
  {
   "cell_type": "code",
   "execution_count": 19,
   "metadata": {},
   "outputs": [
    {
     "data": {
      "text/plain": [
       "['cat', 'cat', 'Chicken', 'dog', 'moose', 'Mouse']"
      ]
     },
     "execution_count": 19,
     "metadata": {},
     "output_type": "execute_result"
    }
   ],
   "source": [
    "spam = ['cat', 'Chicken', 'dog', 'moose', 'Mouse', 'cat']\n",
    "spam.sort(key=str.lower)\n",
    "spam"
   ]
  },
  {
   "cell_type": "markdown",
   "metadata": {},
   "source": [
    "### Reversing the values in a list with the *reverse()* method\n",
    "The *reverse()* method does what you would expect it to.  It reverses the order of all the items in a list.  It takes no arguments and manipulates the list in place"
   ]
  },
  {
   "cell_type": "code",
   "execution_count": 20,
   "metadata": {},
   "outputs": [
    {
     "data": {
      "text/plain": [
       "['Mouse', 'moose', 'dog', 'Chicken', 'cat', 'cat']"
      ]
     },
     "execution_count": 20,
     "metadata": {},
     "output_type": "execute_result"
    }
   ],
   "source": [
    "spam.reverse()\n",
    "spam"
   ]
  },
  {
   "cell_type": "markdown",
   "metadata": {},
   "source": [
    "## Example Program: Refactoring the Magic 8 Ball with a list\n",
    "In the previous version of the Magic 8 Ball program, we used several lines of *elif* statements that were very redundant.  We can use a list to improve it:"
   ]
  },
  {
   "cell_type": "code",
   "execution_count": 22,
   "metadata": {},
   "outputs": [
    {
     "name": "stdout",
     "output_type": "stream",
     "text": [
      "It is decidedly so\n"
     ]
    }
   ],
   "source": [
    "import random\n",
    "\n",
    "messages = ['It is certain',\n",
    "    'It is decidedly so',\n",
    "    'Yes definitely',\n",
    "    'Reply hazy try again',\n",
    "    'Ask again later',\n",
    "    'Concentrate and ask again',\n",
    "    'My reply is no',\n",
    "    'Outlook not so good',\n",
    "    'Very doubtful']\n",
    "\n",
    "print(messages[random.randint(0,len(messages) - 1)])"
   ]
  },
  {
   "cell_type": "markdown",
   "metadata": {},
   "source": [
    "## Sequence data types\n",
    "Sequence data types are data types that represented an ordered sequence of values.  These include lists, strings, objects returned by the *range()* function, and tuples.  Because they are sequenced, these data types share many of the same methods and expressions.  "
   ]
  },
  {
   "cell_type": "code",
   "execution_count": 23,
   "metadata": {},
   "outputs": [
    {
     "data": {
      "text/plain": [
       "'Z'"
      ]
     },
     "execution_count": 23,
     "metadata": {},
     "output_type": "execute_result"
    }
   ],
   "source": [
    "name = 'Zophie'\n",
    "name[0]"
   ]
  },
  {
   "cell_type": "code",
   "execution_count": 24,
   "metadata": {},
   "outputs": [
    {
     "data": {
      "text/plain": [
       "'i'"
      ]
     },
     "execution_count": 24,
     "metadata": {},
     "output_type": "execute_result"
    }
   ],
   "source": [
    "name[-2]"
   ]
  },
  {
   "cell_type": "code",
   "execution_count": 25,
   "metadata": {},
   "outputs": [
    {
     "data": {
      "text/plain": [
       "'Zoph'"
      ]
     },
     "execution_count": 25,
     "metadata": {},
     "output_type": "execute_result"
    }
   ],
   "source": [
    "name[0:4]"
   ]
  },
  {
   "cell_type": "code",
   "execution_count": 26,
   "metadata": {},
   "outputs": [
    {
     "data": {
      "text/plain": [
       "True"
      ]
     },
     "execution_count": 26,
     "metadata": {},
     "output_type": "execute_result"
    }
   ],
   "source": [
    "'Zo' in name"
   ]
  },
  {
   "cell_type": "code",
   "execution_count": 27,
   "metadata": {},
   "outputs": [
    {
     "data": {
      "text/plain": [
       "False"
      ]
     },
     "execution_count": 27,
     "metadata": {},
     "output_type": "execute_result"
    }
   ],
   "source": [
    "'z' in name"
   ]
  },
  {
   "cell_type": "code",
   "execution_count": 28,
   "metadata": {},
   "outputs": [
    {
     "data": {
      "text/plain": [
       "False"
      ]
     },
     "execution_count": 28,
     "metadata": {},
     "output_type": "execute_result"
    }
   ],
   "source": [
    "'p' not in name"
   ]
  },
  {
   "cell_type": "code",
   "execution_count": 29,
   "metadata": {},
   "outputs": [
    {
     "name": "stdout",
     "output_type": "stream",
     "text": [
      "***Z***\n",
      "***o***\n",
      "***p***\n",
      "***h***\n",
      "***i***\n",
      "***e***\n"
     ]
    }
   ],
   "source": [
    "for i in name:\n",
    "    print('***'+i+'***')"
   ]
  },
  {
   "cell_type": "markdown",
   "metadata": {},
   "source": [
    "### Mutable and immutable data types\n",
    "These data types differ in that some are mutable (ie lists) and others are immutable (ie strings).  *Mutable* data types can be manipulated - values can be added, removed, or changed. That's why lists can be altered *in place* and don't need to be reassigned. *Immutable* data types, on the other hand, cannot be manipulated.  When you 'change' a string using the concatenation operator for example (*spam = spam + 'some string'*), you're really just assigning a brand new value to a variable.  See the following"
   ]
  },
  {
   "cell_type": "code",
   "execution_count": 30,
   "metadata": {},
   "outputs": [
    {
     "data": {
      "text/plain": [
       "'Zophie a cat'"
      ]
     },
     "execution_count": 30,
     "metadata": {},
     "output_type": "execute_result"
    }
   ],
   "source": [
    "name = 'Zophie a cat'\n",
    "newName = name[0:7] + 'the' + name[8:12]\n",
    "name"
   ]
  },
  {
   "cell_type": "code",
   "execution_count": 31,
   "metadata": {},
   "outputs": [
    {
     "data": {
      "text/plain": [
       "'Zophie the cat'"
      ]
     },
     "execution_count": 31,
     "metadata": {},
     "output_type": "execute_result"
    }
   ],
   "source": [
    "newName"
   ]
  },
  {
   "cell_type": "markdown",
   "metadata": {},
   "source": [
    "If you try to manipulate a string directly you will get errors:"
   ]
  },
  {
   "cell_type": "code",
   "execution_count": 33,
   "metadata": {},
   "outputs": [
    {
     "ename": "TypeError",
     "evalue": "'str' object does not support item assignment",
     "output_type": "error",
     "traceback": [
      "\u001b[0;31m---------------------------------------------------------------------------\u001b[0m",
      "\u001b[0;31mTypeError\u001b[0m                                 Traceback (most recent call last)",
      "\u001b[0;32m<ipython-input-33-a8d518806477>\u001b[0m in \u001b[0;36m<module>\u001b[0;34m\u001b[0m\n\u001b[0;32m----> 1\u001b[0;31m \u001b[0mname\u001b[0m\u001b[0;34m[\u001b[0m\u001b[0;36m7\u001b[0m\u001b[0;34m]\u001b[0m \u001b[0;34m=\u001b[0m \u001b[0;34m'the'\u001b[0m\u001b[0;34m\u001b[0m\u001b[0;34m\u001b[0m\u001b[0m\n\u001b[0m",
      "\u001b[0;31mTypeError\u001b[0m: 'str' object does not support item assignment"
     ]
    }
   ],
   "source": [
    "name[7] = 'the'"
   ]
  },
  {
   "cell_type": "markdown",
   "metadata": {},
   "source": [
    "### The *tuple* data type\n",
    "The *tuple* data type is essentially an immutable *list*.  They are defined using parentheses instead of brackets and cannot have their values modified, appended, or removed. "
   ]
  },
  {
   "cell_type": "code",
   "execution_count": 34,
   "metadata": {},
   "outputs": [
    {
     "data": {
      "text/plain": [
       "'hello'"
      ]
     },
     "execution_count": 34,
     "metadata": {},
     "output_type": "execute_result"
    }
   ],
   "source": [
    "eggs = ('hello',42,0.5)\n",
    "eggs[0]"
   ]
  },
  {
   "cell_type": "code",
   "execution_count": 35,
   "metadata": {},
   "outputs": [
    {
     "data": {
      "text/plain": [
       "(42, 0.5)"
      ]
     },
     "execution_count": 35,
     "metadata": {},
     "output_type": "execute_result"
    }
   ],
   "source": [
    "eggs[1:3]"
   ]
  },
  {
   "cell_type": "code",
   "execution_count": 36,
   "metadata": {},
   "outputs": [
    {
     "data": {
      "text/plain": [
       "3"
      ]
     },
     "execution_count": 36,
     "metadata": {},
     "output_type": "execute_result"
    }
   ],
   "source": [
    "len(eggs)"
   ]
  },
  {
   "cell_type": "code",
   "execution_count": 37,
   "metadata": {},
   "outputs": [
    {
     "ename": "TypeError",
     "evalue": "'tuple' object does not support item assignment",
     "output_type": "error",
     "traceback": [
      "\u001b[0;31m---------------------------------------------------------------------------\u001b[0m",
      "\u001b[0;31mTypeError\u001b[0m                                 Traceback (most recent call last)",
      "\u001b[0;32m<ipython-input-37-3c87a10f5e34>\u001b[0m in \u001b[0;36m<module>\u001b[0;34m\u001b[0m\n\u001b[0;32m----> 1\u001b[0;31m \u001b[0meggs\u001b[0m\u001b[0;34m[\u001b[0m\u001b[0;36m1\u001b[0m\u001b[0;34m]\u001b[0m \u001b[0;34m=\u001b[0m \u001b[0;36m99\u001b[0m\u001b[0;34m\u001b[0m\u001b[0;34m\u001b[0m\u001b[0m\n\u001b[0m",
      "\u001b[0;31mTypeError\u001b[0m: 'tuple' object does not support item assignment"
     ]
    }
   ],
   "source": [
    "eggs[1] = 99"
   ]
  },
  {
   "cell_type": "markdown",
   "metadata": {},
   "source": [
    "To indicate that a tuple only has one value, you need to add a trailing comma to that value within the parentheses.  Otherwise Python will just see it as an expression that evaluates to that value.  "
   ]
  },
  {
   "cell_type": "code",
   "execution_count": 38,
   "metadata": {},
   "outputs": [
    {
     "data": {
      "text/plain": [
       "tuple"
      ]
     },
     "execution_count": 38,
     "metadata": {},
     "output_type": "execute_result"
    }
   ],
   "source": [
    "type(('hello',))"
   ]
  },
  {
   "cell_type": "code",
   "execution_count": 39,
   "metadata": {},
   "outputs": [
    {
     "data": {
      "text/plain": [
       "str"
      ]
     },
     "execution_count": 39,
     "metadata": {},
     "output_type": "execute_result"
    }
   ],
   "source": [
    "type(('hello'))"
   ]
  },
  {
   "cell_type": "code",
   "execution_count": 40,
   "metadata": {},
   "outputs": [
    {
     "data": {
      "text/plain": [
       "tuple"
      ]
     },
     "execution_count": 40,
     "metadata": {},
     "output_type": "execute_result"
    }
   ],
   "source": [
    "type((45,))"
   ]
  },
  {
   "cell_type": "code",
   "execution_count": 41,
   "metadata": {},
   "outputs": [
    {
     "data": {
      "text/plain": [
       "int"
      ]
     },
     "execution_count": 41,
     "metadata": {},
     "output_type": "execute_result"
    }
   ],
   "source": [
    "type((45))"
   ]
  },
  {
   "cell_type": "markdown",
   "metadata": {},
   "source": [
    "### Converting types with the *list()* and *tuple()* functions\n",
    "Just as we can convert corresponding string, integer, and float values to different data types, we can also convert lists to tuples and tuples to lists, which is useful if you need to restrict or unrestrict changes to a sequence throughout the course of your program"
   ]
  },
  {
   "cell_type": "code",
   "execution_count": 42,
   "metadata": {},
   "outputs": [
    {
     "data": {
      "text/plain": [
       "('cat', 'dog', 5)"
      ]
     },
     "execution_count": 42,
     "metadata": {},
     "output_type": "execute_result"
    }
   ],
   "source": [
    "tuple(['cat','dog',5])"
   ]
  },
  {
   "cell_type": "code",
   "execution_count": 43,
   "metadata": {},
   "outputs": [
    {
     "data": {
      "text/plain": [
       "['cat', 'dog', 5]"
      ]
     },
     "execution_count": 43,
     "metadata": {},
     "output_type": "execute_result"
    }
   ],
   "source": [
    "list(('cat','dog',5))"
   ]
  },
  {
   "cell_type": "code",
   "execution_count": 44,
   "metadata": {},
   "outputs": [
    {
     "data": {
      "text/plain": [
       "['h', 'e', 'l', 'l', 'o']"
      ]
     },
     "execution_count": 44,
     "metadata": {},
     "output_type": "execute_result"
    }
   ],
   "source": [
    "list('hello')"
   ]
  },
  {
   "cell_type": "code",
   "execution_count": 45,
   "metadata": {},
   "outputs": [
    {
     "data": {
      "text/plain": [
       "('h', 'e', 'l', 'l', 'o')"
      ]
     },
     "execution_count": 45,
     "metadata": {},
     "output_type": "execute_result"
    }
   ],
   "source": [
    "tuple('hello')"
   ]
  },
  {
   "cell_type": "markdown",
   "metadata": {},
   "source": [
    "## References\n",
    "Variables don't technically 'store' values like we earlier said they did.  This was a simplification to make variables easier to grasp.  In reality, variables are storing references to computer memory locations where the values are stored."
   ]
  },
  {
   "cell_type": "code",
   "execution_count": 1,
   "metadata": {},
   "outputs": [
    {
     "data": {
      "text/plain": [
       "100"
      ]
     },
     "execution_count": 1,
     "metadata": {},
     "output_type": "execute_result"
    }
   ],
   "source": [
    "spam = 42\n",
    "cheese = spam\n",
    "spam = 100\n",
    "spam"
   ]
  },
  {
   "cell_type": "code",
   "execution_count": 2,
   "metadata": {},
   "outputs": [
    {
     "data": {
      "text/plain": [
       "42"
      ]
     },
     "execution_count": 2,
     "metadata": {},
     "output_type": "execute_result"
    }
   ],
   "source": [
    "cheese"
   ]
  },
  {
   "cell_type": "markdown",
   "metadata": {},
   "source": [
    "When you assign the value *42* to the variable *spam*, you are actually storing *42* in the computer's memory and storing a reference to that location in *spam*.  When you assign the value of *spam* to *cheese* you are really assigning the reference location.  This is why cheese still equals *42* after reassigning the value of *spam* to *100*.  When assigning *100* to *spam* you are creating a new value stored in a new location in memory, NOT changing the original value that was stored in memory.  This happens because integers are immutable.   \n",
    "\n",
    "Since lists are mutable, the behavior is a little different.  If you assign a list value to a variable, and then assign that variable to another variable, they will both be pointing to the same memory location, just like we did in the last example.  But mutability allows the value in that location to change.  So if you change the value using the original variable, the values returned by both variables will change.  "
   ]
  },
  {
   "cell_type": "code",
   "execution_count": 4,
   "metadata": {},
   "outputs": [
    {
     "data": {
      "text/plain": [
       "[0, 'Hello!', 2, 3, 4, 5]"
      ]
     },
     "execution_count": 4,
     "metadata": {},
     "output_type": "execute_result"
    }
   ],
   "source": [
    "spam = [0,1,2,3,4,5]\n",
    "cheese = spam\n",
    "cheese[1] = 'Hello!'\n",
    "spam"
   ]
  },
  {
   "cell_type": "code",
   "execution_count": 5,
   "metadata": {},
   "outputs": [
    {
     "data": {
      "text/plain": [
       "[0, 'Hello!', 2, 3, 4, 5]"
      ]
     },
     "execution_count": 5,
     "metadata": {},
     "output_type": "execute_result"
    }
   ],
   "source": [
    "cheese"
   ]
  },
  {
   "cell_type": "markdown",
   "metadata": {},
   "source": [
    "### Identity and the *id()* function\n",
    "The references to memory locations mentioned above are really just ID numbers.  So, the 'value' stored in a variable is really just this ID.  All values in Python have a unique ID that can be obtained using the *id()* function.  "
   ]
  },
  {
   "cell_type": "code",
   "execution_count": 6,
   "metadata": {},
   "outputs": [
    {
     "data": {
      "text/plain": [
       "4611137920"
      ]
     },
     "execution_count": 6,
     "metadata": {},
     "output_type": "execute_result"
    }
   ],
   "source": [
    "id('Howdy')"
   ]
  },
  {
   "cell_type": "markdown",
   "metadata": {},
   "source": [
    "In this case, the string 'Howdy' is being created and stored in memory and Python is returning the ID of that memory location.  You can see the immutability of strings by looking at their IDs"
   ]
  },
  {
   "cell_type": "code",
   "execution_count": 7,
   "metadata": {},
   "outputs": [
    {
     "data": {
      "text/plain": [
       "4611139936"
      ]
     },
     "execution_count": 7,
     "metadata": {},
     "output_type": "execute_result"
    }
   ],
   "source": [
    "bacon = 'Hello'\n",
    "id(bacon)"
   ]
  },
  {
   "cell_type": "code",
   "execution_count": 8,
   "metadata": {},
   "outputs": [
    {
     "data": {
      "text/plain": [
       "4610163248"
      ]
     },
     "execution_count": 8,
     "metadata": {},
     "output_type": "execute_result"
    }
   ],
   "source": [
    "bacon += ' world!'\n",
    "id(bacon)"
   ]
  },
  {
   "cell_type": "markdown",
   "metadata": {},
   "source": [
    "You can also see the mutability of lists using the same technique"
   ]
  },
  {
   "cell_type": "code",
   "execution_count": 10,
   "metadata": {},
   "outputs": [
    {
     "data": {
      "text/plain": [
       "4611113224"
      ]
     },
     "execution_count": 10,
     "metadata": {},
     "output_type": "execute_result"
    }
   ],
   "source": [
    "eggs = ['cat','dog']\n",
    "id(eggs)"
   ]
  },
  {
   "cell_type": "code",
   "execution_count": 11,
   "metadata": {},
   "outputs": [
    {
     "data": {
      "text/plain": [
       "4611113224"
      ]
     },
     "execution_count": 11,
     "metadata": {},
     "output_type": "execute_result"
    }
   ],
   "source": [
    "eggs.append('moose')\n",
    "id(eggs) # same id!"
   ]
  },
  {
   "cell_type": "code",
   "execution_count": 12,
   "metadata": {},
   "outputs": [
    {
     "data": {
      "text/plain": [
       "4610990472"
      ]
     },
     "execution_count": 12,
     "metadata": {},
     "output_type": "execute_result"
    }
   ],
   "source": [
    "eggs = ['bat','rat','cow'] # this is a new assignment and will have a new ID\n",
    "id(eggs)"
   ]
  },
  {
   "cell_type": "code",
   "execution_count": 13,
   "metadata": {},
   "outputs": [
    {
     "data": {
      "text/plain": [
       "4610990472"
      ]
     },
     "execution_count": 13,
     "metadata": {},
     "output_type": "execute_result"
    }
   ],
   "source": [
    "spam = eggs\n",
    "id(spam) # same ID as above, even though it's a new variable.  "
   ]
  },
  {
   "cell_type": "markdown",
   "metadata": {},
   "source": [
    "### Passing References\n",
    "When passing arguments to a function their values are copied to to the parameter variables, which, for lists (and dictionaries), means a copy of the reference. "
   ]
  },
  {
   "cell_type": "code",
   "execution_count": 14,
   "metadata": {},
   "outputs": [
    {
     "name": "stdout",
     "output_type": "stream",
     "text": [
      "[1, 2, 3, 'Hello']\n"
     ]
    }
   ],
   "source": [
    "def eggs(someParameter):\n",
    "    someParameter.append('Hello')\n",
    "    \n",
    "spam = [1,2,3]\n",
    "eggs(spam)\n",
    "print(spam)"
   ]
  },
  {
   "cell_type": "markdown",
   "metadata": {},
   "source": [
    "### The *copy* module's *copy()* and *deepcopy()* functions\n",
    "If you don't want to modify the original list or dictionary, you can use the *copy()* or *deepcopy()* functions to, believe it or not, copy the list or dictionary.  As we've seen, you can't create an independent copy by assigning a list to a variable and then assigning that variable to another variable.  They point to the same value in memory.  Therefore, you have to use these special copying functions to create independent values with distinct IDs. "
   ]
  },
  {
   "cell_type": "code",
   "execution_count": 18,
   "metadata": {},
   "outputs": [
    {
     "name": "stdout",
     "output_type": "stream",
     "text": [
      "['A', 'B', 'C', 'D']\n",
      "4609875144\n"
     ]
    }
   ],
   "source": [
    "import copy\n",
    "spam = ['A', 'B', 'C', 'D']\n",
    "print(spam)\n",
    "print(id(spam))"
   ]
  },
  {
   "cell_type": "code",
   "execution_count": 17,
   "metadata": {},
   "outputs": [
    {
     "name": "stdout",
     "output_type": "stream",
     "text": [
      "['A', 'B', 'C', 'D']\n",
      "4610899912\n"
     ]
    }
   ],
   "source": [
    "cheese = copy.copy(spam)\n",
    "print(cheese)\n",
    "print(id(cheese))"
   ]
  },
  {
   "cell_type": "code",
   "execution_count": 19,
   "metadata": {},
   "outputs": [
    {
     "name": "stdout",
     "output_type": "stream",
     "text": [
      "['A', 'B', 'C', 'D']\n",
      "['A', 42, 'C', 'D']\n"
     ]
    }
   ],
   "source": [
    "cheese[1] = 42\n",
    "print(spam)\n",
    "print(cheese)"
   ]
  },
  {
   "cell_type": "markdown",
   "metadata": {},
   "source": [
    "If the list or dictionary value that you are copying contains list or dictionary values then you need to use the *deepcopy()* function to make sure those values are also independent duplicates.\n",
    "\n",
    "## A Short Program: Conway's Game of Life"
   ]
  },
  {
   "cell_type": "code",
   "execution_count": 30,
   "metadata": {},
   "outputs": [
    {
     "name": "stdout",
     "output_type": "stream",
     "text": [
      "\n",
      "\n",
      "\n",
      "\n",
      "\n",
      "\n",
      "#  ##   # #       ### # # # ## ### # #   #  ##  ###### #  # \n",
      "### # #### ## #  # ### #####          ####   #  # # ######  \n",
      "#     ## ## ####  ##   ##   # ## ## # # ## # #  ## ###    ##\n",
      "# #  #### #   # #### #####   ##     ### ########  #  #####  \n",
      "#   ##     # #####  ## ### # #  #      #   ### # ####### ## \n",
      "## ##     #     #  ###  ###   ##  # ## ######## # # #  #### \n",
      "#  ### #  ## #  #  ## # # ## #  ## #  # ## ## #   ## # #  # \n",
      "#  #    #  ###  ### #  #   ##### ## ##### ##        # # #   \n",
      " ## #  ### ######  ##  # ### ###  # ###  ###  # #   ##   ###\n",
      "## #  # #    #    ## # #### ####    #  #  ##  ####  # #    #\n",
      "## #   # #     ###   ## # ## ##  #######   ##   #  # # ### #\n",
      " ## ####  #  ##  #####   ## ### # ##  #    #    ###    ## ##\n",
      "##### ##   ## # #### ##         #####    ##        #  ##  ##\n",
      "# #   #  ###  #### ### # #  # ##  # ### # ######## ###     #\n",
      "# ### # ##    #  ## #### # #   ####     ### # # # # # ####  \n",
      "#   #     # #  # #   # ##  #      # ####    ### ##  ## ##  #\n",
      "#### ## ##    #### ###   #### ####    #  ##     ### #     ##\n",
      "# #  # #         ## ##  #   # # #  # #    ####### ##  #  # #\n",
      " ##### # # # ##  #    #        #      ###  #   #   ### ## ##\n",
      "   # #  #####  ### # ####  ###     # # ###  # # # ## #    ##\n",
      "\n",
      "\n",
      "\n",
      "\n",
      "\n",
      "\n",
      "#     #      # #             ## # #  #    # # # #      #  # \n",
      "  # # #     # ## #   #    #        ## #      ###       ###  \n",
      "  ##        #              ## ##   ##      #    #         # \n",
      "#   #   # #          #    #     ## ## #        #            \n",
      "# #    # ### ##             ##     #                        \n",
      "###   #   #  #    #          ###  ####          #           \n",
      "#    #   ##  # ##     # #                     ## ##  #    # \n",
      "#    ##           #   ##                     # #      ###   \n",
      "    #    ###   ##    # #         ##         # # ## ## ## ## \n",
      "   ## #   #  #    ## #          ##     ###   ##  # #  ##    \n",
      "   #     #   # ##               ##     #    #      ###   #  \n",
      "          #####        # ## # # #     ##   ##   #####       \n",
      "    #   ##  #           #####   #     ## #   ##    # #####  \n",
      "      #  # ## #        #  #   #     ## ##   # # ##       #  \n",
      "  # #  ##    ##          # ## ### #     # #       #      ## \n",
      "      #   #  #         #      #   ## ###    # #     #       \n",
      "  ## #####    ##   #   # ## # # ####   # ##         # ####  \n",
      "       # ##  #        #  ## # #  #   #  #   ###       ####  \n",
      " #   # # # # ###   #    #  #  ##     #               # ##   \n",
      " #   ###    ###### #    ## # # #  #  #   #### # #      ##   \n",
      "\n",
      "\n",
      "\n",
      "\n",
      "\n",
      "\n",
      " #               ##      ## #### ##  ##  ## #   #     #     \n",
      " ##  #      # ###          ##     #        #### #      #####\n",
      " ## ##     # #            ##   ##               #       ##  \n",
      "  #     # # ##                ###    #                     #\n",
      "# ##   ##  ####             ## ###                         #\n",
      "# #   # #    # #            ###   ###          ###          \n",
      "#    #   ##   #  #    #       #    ##         ## #    ##    \n",
      "    ###    #  #  #   #  #                    #     ##   # # \n",
      "   ## #  ###     ##### #        ###     #   #   ## ##    #  \n",
      "   ###     ##    #  # #                ##   # ####     # ## \n",
      "   ##    #     #                           ##   #    ##     \n",
      "        # ##  ##            ##  #          ##    #     # #  \n",
      "        ##    #        #    #              #  #    # #####  \n",
      "   # #   #### #               # ##   #        ## ##   ##    \n",
      "     #######  #         # ##  #  ##     ## #   # #       ## \n",
      "  # #        # #         #  # #     # ##  ##       # # #  # \n",
      "     #       ##       ## ##   # #  # # # # ## #       #  #  \n",
      "  # ##      ##         #    # #  #  # # ##   #              \n",
      "     # # # #      #    ##  #   ##   ###  ##   ##            \n",
      "##   # ##         #     ###  #  ##  ###  ## #            #  \n"
     ]
    },
    {
     "ename": "KeyboardInterrupt",
     "evalue": "",
     "output_type": "error",
     "traceback": [
      "\u001b[0;31m---------------------------------------------------------------------------\u001b[0m",
      "\u001b[0;31mKeyboardInterrupt\u001b[0m                         Traceback (most recent call last)",
      "\u001b[0;32m<ipython-input-30-d058440c18e5>\u001b[0m in \u001b[0;36m<module>\u001b[0;34m\u001b[0m\n\u001b[1;32m     65\u001b[0m                 \u001b[0;31m# Everything else dies or stays dead:\u001b[0m\u001b[0;34m\u001b[0m\u001b[0;34m\u001b[0m\u001b[0;34m\u001b[0m\u001b[0m\n\u001b[1;32m     66\u001b[0m                 \u001b[0mnextCells\u001b[0m\u001b[0;34m[\u001b[0m\u001b[0mx\u001b[0m\u001b[0;34m]\u001b[0m\u001b[0;34m[\u001b[0m\u001b[0my\u001b[0m\u001b[0;34m]\u001b[0m \u001b[0;34m=\u001b[0m \u001b[0;34m' '\u001b[0m\u001b[0;34m\u001b[0m\u001b[0;34m\u001b[0m\u001b[0m\n\u001b[0;32m---> 67\u001b[0;31m     \u001b[0mtime\u001b[0m\u001b[0;34m.\u001b[0m\u001b[0msleep\u001b[0m\u001b[0;34m(\u001b[0m\u001b[0;36m1\u001b[0m\u001b[0;34m)\u001b[0m \u001b[0;31m# Add a 1-second pause to reduce flickering.\u001b[0m\u001b[0;34m\u001b[0m\u001b[0;34m\u001b[0m\u001b[0m\n\u001b[0m",
      "\u001b[0;31mKeyboardInterrupt\u001b[0m: "
     ]
    }
   ],
   "source": [
    "# Conway's Game of Life\n",
    "import random, time, copy\n",
    "WIDTH = 60\n",
    "HEIGHT = 20\n",
    "\n",
    "# Create a list of list for the cells:\n",
    "nextCells = []\n",
    "for x in range(WIDTH):\n",
    "    column = [] # Create a new column.\n",
    "    for y in range(HEIGHT):\n",
    "        if random.randint(0, 1) == 0:\n",
    "            column.append('#') # Add a living cell.\n",
    "        else:\n",
    "            column.append(' ') # Add a dead cell.\n",
    "    nextCells.append(column) # nextCells is a list of column lists.\n",
    "\n",
    "while True: # Main program loop.\n",
    "    print('\\n\\n\\n\\n\\n') # Separate each step with newlines.\n",
    "    currentCells = copy.deepcopy(nextCells)\n",
    "\n",
    "    # Print currentCells on the screen:\n",
    "    for y in range(HEIGHT):\n",
    "        for x in range(WIDTH):\n",
    "            print(currentCells[x][y], end='') # Print the # or space.\n",
    "        print() # Print a newline at the end of the row.\n",
    "\n",
    "    # Calculate the next step's cells based on current step's cells:\n",
    "    for x in range(WIDTH):\n",
    "        for y in range(HEIGHT):\n",
    "            # Get neighboring coordinates:\n",
    "            # `% WIDTH` ensures leftCoord is always between 0 and WIDTH - 1\n",
    "            leftCoord  = (x - 1) % WIDTH\n",
    "            rightCoord = (x + 1) % WIDTH\n",
    "            aboveCoord = (y - 1) % HEIGHT\n",
    "            belowCoord = (y + 1) % HEIGHT\n",
    "\n",
    "            # Count number of living neighbors:\n",
    "            numNeighbors = 0\n",
    "            if currentCells[leftCoord][aboveCoord] == '#':\n",
    "                numNeighbors += 1 # Top-left neighbor is alive.\n",
    "            if currentCells[x][aboveCoord] == '#':\n",
    "                numNeighbors += 1 # Top neighbor is alive.\n",
    "            if currentCells[rightCoord][aboveCoord] == '#':\n",
    "                numNeighbors += 1 # Top-right neighbor is alive.\n",
    "            if currentCells[leftCoord][y] == '#':\n",
    "                numNeighbors += 1 # Left neighbor is alive.\n",
    "            if currentCells[rightCoord][y] == '#':\n",
    "                numNeighbors += 1 # Right neighbor is alive.\n",
    "            if currentCells[leftCoord][belowCoord] == '#':\n",
    "                numNeighbors += 1 # Bottom-left neighbor is alive.\n",
    "            if currentCells[x][belowCoord] == '#':\n",
    "                numNeighbors += 1 # Bottom neighbor is alive.\n",
    "            if currentCells[rightCoord][belowCoord] == '#':\n",
    "                numNeighbors += 1 # Bottom-right neighbor is alive.\n",
    "\n",
    "            # Set cell based on Conway's Game of Life rules:\n",
    "            if currentCells[x][y] == '#' and (numNeighbors == 2 or\n",
    "numNeighbors == 3):\n",
    "                # Living cells with 2 or 3 neighbors stay alive:\n",
    "                nextCells[x][y] = '#'\n",
    "            elif currentCells[x][y] == ' ' and numNeighbors == 3:\n",
    "                # Dead cells with 3 neighbors become alive:\n",
    "                nextCells[x][y] = '#'\n",
    "            else:\n",
    "                # Everything else dies or stays dead:\n",
    "                nextCells[x][y] = ' '\n",
    "    time.sleep(1) # Add a 1-second pause to reduce flickering."
   ]
  },
  {
   "cell_type": "markdown",
   "metadata": {},
   "source": [
    "## Summary\n",
    "Lists are data types that are useful because they allow you to store multiple values in sequential order.  This is a powerful organizational tool eliminates the need to store large quantities of data on individual variables, among other wide-ranging benefits. \n",
    "\n",
    "Lists, tuples, range objects, and strings are all sequence data types - meaning their contents follow a specific order.  List values are mutable (aka can be changed), though, while tuples and strings are immutable (aka cannot be changed).  Immutable values can be overwritten but this is not the same as being changed, because the original value in memory will stay the same.  \n",
    "\n",
    "Variables don't store values directly.  They store references to values in a computer's memory.  This is especially important to remember when working with lists (and dictionaries) because when you assign a list value to a variable from another variable you are just copying the reference, not creating a new value. Because they are mutable, both variables will reflect change when only one of them is changed.  In order to create true, independent duplicates, you have to use *copy()* or *deepcopy()*. "
   ]
  },
  {
   "cell_type": "markdown",
   "metadata": {},
   "source": [
    "## Practice Questions\n",
    "1. What is []?\n",
    "    - square brackets are what defines a list.  This is an empty list. Non-empty lists contain values separated by commas.\n",
    " \n",
    "  \n",
    "2. How would you assign the value 'hello' as the third value in a list stored in a variable named spam? (Assume spam contains [2, 4, 6, 8, 10].)\n",
    "    - spam[2] = 'hello'\n",
    "\n",
    "\n",
    "For the following three questions, let’s say spam contains the list ['a', 'b', 'c', 'd'].\n",
    "\n",
    "3. What does spam[int(int('3' * 2) // 11)] evaluate to?\n",
    "    - 'd'\n",
    "\n",
    "\n",
    "4. What does spam[-1] evaluate to?\n",
    "    - 'd'\n",
    "\n",
    "\n",
    "5. What does spam[:2] evaluate to?\n",
    "    - ['a', 'b', 'c']\n",
    "\n",
    "\n",
    "For the following three questions, let’s say bacon contains the list [3.14, 'cat', 11, 'cat', True].\n",
    "\n",
    "6. What does bacon.index('cat') evaluate to?\n",
    "    - 1\n",
    "\n",
    "\n",
    "7. What does bacon.append(99) make the list value in bacon look like?\n",
    "    - [3.14, 'cat', 11, 'cat', True, 99]\n",
    "\n",
    "\n",
    "8. What does bacon.remove('cat') make the list value in bacon look like?\n",
    "    - [3.14, 11, 'cat', True]\n",
    "\n",
    "\n",
    "9. What are the operators for list concatenation and list replication?\n",
    "    - List concatenation: +\n",
    "    - List replication: *\n",
    "\n",
    "\n",
    "10. What is the difference between the append() and insert() list methods?\n",
    "    - append() takes one argument and adds that argument to the end of a list\n",
    "    - insert() takes two arguments - the first being an index and the second being the value you want to add - and adds the new value at the index provided, shifting the rest of the list up one index value. \n",
    "\n",
    "\n",
    "11. What are two ways to remove values from a list?\n",
    "    - the *del* keyword followed by the value you want to get rid of using bracket retrieval syntax: del spam[1]\n",
    "    - the *remove()* function which takes the value you want to delete as a parameter and is preceded by the list: spam.remove(someValue)\n",
    "\n",
    "\n",
    "12. Name a few ways that list values are similar to string values.\n",
    "    - Lists and strings are both sequential data types.  You can access the sequenced values using bracket retrieval syntax. You can check whether or not they contain certain values using the *in* and *not* operators.  You can use *index()* and *len()* functions. \n",
    "\n",
    "\n",
    "13. What is the difference between lists and tuples?\n",
    "    - Lists are mutable and tuples are not. Also, lists are defined by square brackets and tuples by parentheses\n",
    "\n",
    "\n",
    "14. How do you type the tuple value that has just the integer value 42 in it?\n",
    "    - spam = (42,) # you have to include a comma at the end to indicate to Python that you want it to be a tuple and not an integer\n",
    "\n",
    "\n",
    "15. How can you get the tuple form of a list value? How can you get the list form of a tuple value?\n",
    "    - To get the tuple form of a list value you have to pass the list into the *tuple()* function and to get the list form of a tuple value you have to pass the tuple into the *list()* function\n",
    "\n",
    "\n",
    "16. Variables that “contain” list values don’t actually contain lists directly. What do they contain instead?\n",
    "    - Variables that 'contain' list values actually contain references - which are essentially just ID numbers - pointing to a location in the computer's memory that stores the list value. \n",
    "\n",
    "\n",
    "17. What is the difference between copy.copy() and copy.deepcopy()?\n",
    "    - copy.copy() will make an independent duplicate of a list or dictionary.  With copy(), if there are any lists or dictionaries stored in the original list or dictionary, only the original references will be copied into the new list/dictionary.  If you want those values to be duplicated as well (not just references), you need to use deepcopy()."
   ]
  },
  {
   "cell_type": "markdown",
   "metadata": {},
   "source": [
    "## Practice Projects\n",
    "\n",
    "### Comma Code\n",
    "Write a function that takes a list value as an argument and returns a string with all the items separated by a comma and a space, with and inserted before the last item."
   ]
  },
  {
   "cell_type": "code",
   "execution_count": 4,
   "metadata": {},
   "outputs": [
    {
     "name": "stdout",
     "output_type": "stream",
     "text": [
      "apples, bananas, tofu, and cats\n",
      "1, 3, 24, and 765\n",
      "You passed an empty list!\n"
     ]
    }
   ],
   "source": [
    "def comma(list):\n",
    "    if len(list) > 0:\n",
    "        string = ''\n",
    "        for index, item in enumerate(list):\n",
    "            if index < len(list) - 1:\n",
    "                string += str(item) + ', '\n",
    "            else:\n",
    "                string += 'and ' + str(item)\n",
    "        return string\n",
    "    else:\n",
    "        return 'You passed an empty list!'\n",
    "\n",
    "print(comma(['apples', 'bananas', 'tofu', 'cats']))\n",
    "print(comma(['1', '3', '24', '765']))\n",
    "print(comma([]))"
   ]
  },
  {
   "cell_type": "markdown",
   "metadata": {},
   "source": [
    "### Coin Flip Streaks\n",
    "Write a program to find out how often a streak of six heads or a streak of six tails comes up in a randomly generated list of heads and tails."
   ]
  },
  {
   "cell_type": "code",
   "execution_count": 17,
   "metadata": {},
   "outputs": [
    {
     "name": "stdout",
     "output_type": "stream",
     "text": [
      "Chance of streak: 54.13%\n"
     ]
    }
   ],
   "source": [
    "import random\n",
    "numberOfStreaks = 0\n",
    "for experimentNumber in range(10000):\n",
    "    # Code that creates a list of 100 'heads' or 'tails' values.\n",
    "    flips = []\n",
    "    for flip in range(100):\n",
    "        flips.append('heads' if random.randint(0,1) == 0 else 'tails')\n",
    "        \n",
    "    # Code that checks if there is a streak of 6 heads or tails in a row.\n",
    "    streak = 0\n",
    "    for i, f in enumerate(flips):\n",
    "        if i < len(flips) - 1 and flips[i + 1] == f:\n",
    "            streak += 1\n",
    "            if streak == 6:\n",
    "                numberOfStreaks += 1\n",
    "                break\n",
    "        else:\n",
    "            streak = 0\n",
    "    \n",
    "print('Chance of streak: %s%%' % (numberOfStreaks / 100))"
   ]
  },
  {
   "cell_type": "markdown",
   "metadata": {},
   "source": [
    "### Character Picture Grid\n",
    "Take the following grid value, and write code that uses it to print this image:\n",
    "\n",
    "..OO.OO..\n",
    "\n",
    ".OOOOOOO.\n",
    "\n",
    ".OOOOOOO.\n",
    "\n",
    "..OOOOO..\n",
    "\n",
    "...OOO...\n",
    "\n",
    "....O...."
   ]
  },
  {
   "cell_type": "code",
   "execution_count": 27,
   "metadata": {},
   "outputs": [
    {
     "name": "stdout",
     "output_type": "stream",
     "text": [
      "..OO.OO..\n",
      ".OOOOOOO.\n",
      ".OOOOOOO.\n",
      "..OOOOO..\n",
      "...OOO...\n",
      "....O....\n"
     ]
    }
   ],
   "source": [
    "grid = [['.', '.', '.', '.', '.', '.'],\n",
    "        ['.', 'O', 'O', '.', '.', '.'],\n",
    "        ['O', 'O', 'O', 'O', '.', '.'],\n",
    "        ['O', 'O', 'O', 'O', 'O', '.'],\n",
    "        ['.', 'O', 'O', 'O', 'O', 'O'],\n",
    "        ['O', 'O', 'O', 'O', 'O', '.'],\n",
    "        ['O', 'O', 'O', 'O', '.', '.'],\n",
    "        ['.', 'O', 'O', '.', '.', '.'],\n",
    "        ['.', '.', '.', '.', '.', '.']]\n",
    "\n",
    "\n",
    "for y in range(len(grid[0])):\n",
    "    for x in range(len(grid) - 1, -1, -1):\n",
    "        print(grid[x][y], end='')\n",
    "    print('')\n",
    "    "
   ]
  },
  {
   "cell_type": "code",
   "execution_count": null,
   "metadata": {},
   "outputs": [],
   "source": []
  }
 ],
 "metadata": {
  "kernelspec": {
   "display_name": "Python 3",
   "language": "python",
   "name": "python3"
  },
  "language_info": {
   "codemirror_mode": {
    "name": "ipython",
    "version": 3
   },
   "file_extension": ".py",
   "mimetype": "text/x-python",
   "name": "python",
   "nbconvert_exporter": "python",
   "pygments_lexer": "ipython3",
   "version": "3.7.3"
  }
 },
 "nbformat": 4,
 "nbformat_minor": 2
}
