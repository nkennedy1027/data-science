{
 "cells": [
  {
   "cell_type": "markdown",
   "metadata": {},
   "source": [
    "# 1 Python Basics\n",
    "Here we go!  Chapter 1.  As a web developer of three years I'm not new to programming. But I don't (really) know Python, and being self-taught it's always good to get extra practice and insight into the world of programming.  So, I'm starting from the beginning.  Before long I'll be a Python master, FOR SURE."
   ]
  },
  {
   "cell_type": "markdown",
   "metadata": {},
   "source": [
    "We're starting off with some very basic math.  But a useful example of an expression:"
   ]
  },
  {
   "cell_type": "code",
   "execution_count": 2,
   "metadata": {},
   "outputs": [
    {
     "data": {
      "text/plain": [
       "4"
      ]
     },
     "execution_count": 2,
     "metadata": {},
     "output_type": "execute_result"
    }
   ],
   "source": [
    "2+2"
   ]
  },
  {
   "cell_type": "markdown",
   "metadata": {},
   "source": [
    "2+2 is an **expression**, which is the most basic kind of programming instruction.  Expressions consist of two things:\n",
    "* values: ie '2'\n",
    "* operators: ie '+'\n",
    "\n",
    "Expressions are then evaluated or reduced down to a single value. \n",
    "\n",
    "There are many more operators, including 7 math operators.  Most are the same as in JavaScript (exponent (\\*\\*), modulus (%), division (/), multiplication (\\*), subtraction (-), addition (+)), but Python adds the **integer division/floored quotient operator** (//) which looks like it takes the floor (rounded down) value of a division operation.\n",
    "\n",
    "The order of operations are as follows:\n",
    "\n",
    "* \\*\\*\n",
    "* \\*, /, //, %\n",
    "* +, -\n",
    "\n",
    "As in math and JS, parentheses override the usual precedence.  \n",
    "\n",
    "#### Expression Practice:"
   ]
  },
  {
   "cell_type": "code",
   "execution_count": 3,
   "metadata": {},
   "outputs": [
    {
     "data": {
      "text/plain": [
       "20"
      ]
     },
     "execution_count": 3,
     "metadata": {},
     "output_type": "execute_result"
    }
   ],
   "source": [
    "2 + 3 * 6   # standard math"
   ]
  },
  {
   "cell_type": "code",
   "execution_count": 4,
   "metadata": {},
   "outputs": [
    {
     "data": {
      "text/plain": [
       "30"
      ]
     },
     "execution_count": 4,
     "metadata": {},
     "output_type": "execute_result"
    }
   ],
   "source": [
    "(2 + 3) * 6   # parenthetic override"
   ]
  },
  {
   "cell_type": "code",
   "execution_count": 5,
   "metadata": {},
   "outputs": [
    {
     "data": {
      "text/plain": [
       "28093077826734"
      ]
     },
     "execution_count": 5,
     "metadata": {},
     "output_type": "execute_result"
    }
   ],
   "source": [
    "48565878 * 578453   # large numbers"
   ]
  },
  {
   "cell_type": "code",
   "execution_count": 6,
   "metadata": {},
   "outputs": [
    {
     "data": {
      "text/plain": [
       "256"
      ]
     },
     "execution_count": 6,
     "metadata": {},
     "output_type": "execute_result"
    }
   ],
   "source": [
    "2 ** 8   # exponents"
   ]
  },
  {
   "cell_type": "code",
   "execution_count": 7,
   "metadata": {},
   "outputs": [
    {
     "data": {
      "text/plain": [
       "3.2857142857142856"
      ]
     },
     "execution_count": 7,
     "metadata": {},
     "output_type": "execute_result"
    }
   ],
   "source": [
    "23 / 7   # division"
   ]
  },
  {
   "cell_type": "code",
   "execution_count": 8,
   "metadata": {},
   "outputs": [
    {
     "data": {
      "text/plain": [
       "3"
      ]
     },
     "execution_count": 8,
     "metadata": {},
     "output_type": "execute_result"
    }
   ],
   "source": [
    "23 // 7   # integer division/floored quotient"
   ]
  },
  {
   "cell_type": "code",
   "execution_count": 9,
   "metadata": {},
   "outputs": [
    {
     "data": {
      "text/plain": [
       "2"
      ]
     },
     "execution_count": 9,
     "metadata": {},
     "output_type": "execute_result"
    }
   ],
   "source": [
    "23 % 7   # modulus"
   ]
  },
  {
   "cell_type": "code",
   "execution_count": 12,
   "metadata": {},
   "outputs": [
    {
     "data": {
      "text/plain": [
       "4"
      ]
     },
     "execution_count": 12,
     "metadata": {},
     "output_type": "execute_result"
    }
   ],
   "source": [
    " 2      +           2 \n",
    "# whitespace doesn't matter in python except for indents"
   ]
  },
  {
   "cell_type": "code",
   "execution_count": 13,
   "metadata": {},
   "outputs": [
    {
     "data": {
      "text/plain": [
       "16.0"
      ]
     },
     "execution_count": 13,
     "metadata": {},
     "output_type": "execute_result"
    }
   ],
   "source": [
    "(5 - 1) * ((7 + 1) / (3 - 1)) # lots of parentheses"
   ]
  },
  {
   "cell_type": "markdown",
   "metadata": {},
   "source": [
    "\n",
    "The important thing to note is that each expression boils down to one value.\n"
   ]
  },
  {
   "cell_type": "markdown",
   "metadata": {},
   "source": [
    "## The Integer, Floating-Point, and String Data Types\n",
    "Expressions are values combined with operators.  As we saw with operators, values come in exactly one of many categories, known as **data types**. The most common data types are:\n",
    "* integers: positive or negative whole numbers such as -1, 0, 30, 10000\n",
    "* floating-point numbers: basically the same as above but with decimals (even if the only number after the decimal is 0, ie 1.0)\n",
    "* strings: characters wrapped in single quotes, ie 'a','Hello!', '11 cats'"
   ]
  },
  {
   "cell_type": "markdown",
   "metadata": {},
   "source": [
    "## String concatenation and replication"
   ]
  },
  {
   "cell_type": "markdown",
   "metadata": {},
   "source": [
    "Operators mean different things when next to different data types.  When '+' is next to strings, it becomes the *string concatenation* operator instead of the addition operator."
   ]
  },
  {
   "cell_type": "code",
   "execution_count": 1,
   "metadata": {},
   "outputs": [
    {
     "data": {
      "text/plain": [
       "'AliceBob'"
      ]
     },
     "execution_count": 1,
     "metadata": {},
     "output_type": "execute_result"
    }
   ],
   "source": [
    "'Alice' + 'Bob'"
   ]
  },
  {
   "cell_type": "markdown",
   "metadata": {},
   "source": [
    "Look! Now it's one string with no spaces, because neither original string had spaces.  \n",
    "\n",
    "There's no type coercion like there is in JS, though, so if you were to try and use '+' between a string and a number you would get an error."
   ]
  },
  {
   "cell_type": "code",
   "execution_count": 2,
   "metadata": {},
   "outputs": [
    {
     "ename": "TypeError",
     "evalue": "can only concatenate str (not \"int\") to str",
     "output_type": "error",
     "traceback": [
      "\u001b[0;31m---------------------------------------------------------------------------\u001b[0m",
      "\u001b[0;31mTypeError\u001b[0m                                 Traceback (most recent call last)",
      "\u001b[0;32m<ipython-input-2-4e9a9e71481a>\u001b[0m in \u001b[0;36m<module>\u001b[0;34m\u001b[0m\n\u001b[0;32m----> 1\u001b[0;31m \u001b[0;34m'Alice'\u001b[0m \u001b[0;34m+\u001b[0m \u001b[0;36m42\u001b[0m\u001b[0;34m\u001b[0m\u001b[0;34m\u001b[0m\u001b[0m\n\u001b[0m",
      "\u001b[0;31mTypeError\u001b[0m: can only concatenate str (not \"int\") to str"
     ]
    }
   ],
   "source": [
    "'Alice' + 42"
   ]
  },
  {
   "cell_type": "markdown",
   "metadata": {},
   "source": [
    "Interestingly, this is not the case with '\\*'.  When using '\\*' with a string, it will replicate and concatenate the target (doesn't work with floats) string by the integer that you provide.  "
   ]
  },
  {
   "cell_type": "code",
   "execution_count": 3,
   "metadata": {},
   "outputs": [
    {
     "data": {
      "text/plain": [
       "'AliceAliceAliceAliceAlice'"
      ]
     },
     "execution_count": 3,
     "metadata": {},
     "output_type": "execute_result"
    }
   ],
   "source": [
    "'Alice' * 5"
   ]
  },
  {
   "cell_type": "markdown",
   "metadata": {},
   "source": [
    "## Storing values in variables\n",
    "A **variable** is basically a box where you store a value.  \n",
    "\n",
    "### Assignment Statements\n",
    "Values are stored in variables by using the assignment operator: '='."
   ]
  },
  {
   "cell_type": "code",
   "execution_count": 7,
   "metadata": {},
   "outputs": [
    {
     "name": "stdout",
     "output_type": "stream",
     "text": [
      "42\n"
     ]
    }
   ],
   "source": [
    "spam = 42\n",
    "print(spam)"
   ]
  },
  {
   "cell_type": "markdown",
   "metadata": {},
   "source": [
    "The python interpreter initializes the variable the first time a value is stored.  You can then use it in other variables and values.  When a new value is assigned, the old value is overwritten and forgotten."
   ]
  },
  {
   "cell_type": "markdown",
   "metadata": {},
   "source": [
    "### Variable Names\n",
    "You can name your variables just about anything you want, but as with any programming language, it's good to make it descriptive.  there are a few restrictions though: \n",
    "* It can be only one word with no spaces\n",
    "* It can only use letters, numbers and the underscore (\\_) character\n",
    "* It can't begin with a number\n",
    "\n",
    "Variables in python, as in JS, are case-sensitive.  Also, many python programmers use underscores in their variable names, but camelCase is perfectly acceptable and is used by the Automate the Boring Stuff book (phew!).  "
   ]
  },
  {
   "cell_type": "markdown",
   "metadata": {},
   "source": [
    "## Your First Program"
   ]
  },
  {
   "cell_type": "code",
   "execution_count": 9,
   "metadata": {},
   "outputs": [
    {
     "name": "stdout",
     "output_type": "stream",
     "text": [
      "Hello, world!\n",
      "What is your name?\n",
      "Nathan\n",
      "It is good to meet you, Nathan\n",
      "The length of your name is:\n",
      "6\n",
      "What is your age?\n",
      "29\n",
      "You will be 30 in a year.\n"
     ]
    }
   ],
   "source": [
    "# This Program says hello and asks for my name\n",
    "\n",
    "print('Hello, world!')\n",
    "print('What is your name?') # ask for their name\n",
    "myName = input()\n",
    "print('It is good to meet you, ' + myName)\n",
    "print('The length of your name is:')\n",
    "print(len(myName))\n",
    "print('What is your age?') # ask for their age\n",
    "myAge = input()\n",
    "print('You will be ' + str(int(myAge) + 1) + ' in a year.')"
   ]
  },
  {
   "cell_type": "markdown",
   "metadata": {},
   "source": [
    "## Dissecting Your Program\n",
    "### Comments\n",
    "Comments are preceded by a hashmark (#) and are ignored by the python interpreter.  They are used for notes or as reminders, but can also be used to remove code from a program without getting rid of it, primarily to help test a program.  \n",
    "### The print() function\n",
    "Our first function!  The print() function displays the string value inside the parentheses.  The interpreter sees this line, *calls* the print() function, and *passes* the string value in between the parentheses to the function, aka an **argument**.  The parentheses are what indicates to the interpreter that this is a function.  Arguments are optional.\n",
    "### The input() function\n",
    "Our second function - input() - waits for the user to type some text on the keyboard and press enter.  But there's something else about this line in the program.  The input() function evaluates to a string equal to the user's input, the result of which is stored in the variable *myName*. \n",
    "### Printing the user's name\n",
    "In the next line, we use a variable - *myName* - inside the argument of the print function.  In this case, we are using an expression as the argument, which is possible because, as we've learned, expressions evaluate down to a single value.\n",
    "### The len() function\n",
    "This function takes a string as an argument and evaluates to the integer value of the number of characters in that string. \n",
    "### The str(), int(), and float() functions\n",
    "In order to construct a string that tells the user how old they will be in one year, you have to convert *myAge + 1* to a string - remember, there's no type coercion in Python! First, though, you have to add the two numbers together.  In this case, *myAge* is a string because it was initialized by the input() function, which converts user input into strings.  So, we have to convert *myAge* to an integer by passing it to the int() function.  Then we create the addition expression and pass the whole expression to the str() function.  Then it's ready to be concatenated into the final string.  \n",
    "\n",
    "These are important functions.  They will do their best to convert the data type you give them into the target data type denoted by their name. The following examples illustrate how they handle various data types:"
   ]
  },
  {
   "cell_type": "code",
   "execution_count": 10,
   "metadata": {},
   "outputs": [
    {
     "data": {
      "text/plain": [
       "'0'"
      ]
     },
     "execution_count": 10,
     "metadata": {},
     "output_type": "execute_result"
    }
   ],
   "source": [
    "str(0) # integer -> string"
   ]
  },
  {
   "cell_type": "code",
   "execution_count": 11,
   "metadata": {},
   "outputs": [
    {
     "data": {
      "text/plain": [
       "'-3.14'"
      ]
     },
     "execution_count": 11,
     "metadata": {},
     "output_type": "execute_result"
    }
   ],
   "source": [
    "str(-3.14) # float -> string"
   ]
  },
  {
   "cell_type": "code",
   "execution_count": 12,
   "metadata": {},
   "outputs": [
    {
     "data": {
      "text/plain": [
       "42"
      ]
     },
     "execution_count": 12,
     "metadata": {},
     "output_type": "execute_result"
    }
   ],
   "source": [
    "int('42') # string -> integer"
   ]
  },
  {
   "cell_type": "code",
   "execution_count": 13,
   "metadata": {},
   "outputs": [
    {
     "data": {
      "text/plain": [
       "-99"
      ]
     },
     "execution_count": 13,
     "metadata": {},
     "output_type": "execute_result"
    }
   ],
   "source": [
    "int('-99') # string -> integer"
   ]
  },
  {
   "cell_type": "code",
   "execution_count": 14,
   "metadata": {},
   "outputs": [
    {
     "data": {
      "text/plain": [
       "1"
      ]
     },
     "execution_count": 14,
     "metadata": {},
     "output_type": "execute_result"
    }
   ],
   "source": [
    "int(1.25) # float -> integer"
   ]
  },
  {
   "cell_type": "code",
   "execution_count": 15,
   "metadata": {},
   "outputs": [
    {
     "data": {
      "text/plain": [
       "1"
      ]
     },
     "execution_count": 15,
     "metadata": {},
     "output_type": "execute_result"
    }
   ],
   "source": [
    "int(1.99) # float -> integer"
   ]
  },
  {
   "cell_type": "code",
   "execution_count": 16,
   "metadata": {},
   "outputs": [
    {
     "data": {
      "text/plain": [
       "3.14"
      ]
     },
     "execution_count": 16,
     "metadata": {},
     "output_type": "execute_result"
    }
   ],
   "source": [
    "float('3.14') # string -> float"
   ]
  },
  {
   "cell_type": "code",
   "execution_count": 17,
   "metadata": {},
   "outputs": [
    {
     "data": {
      "text/plain": [
       "10.0"
      ]
     },
     "execution_count": 17,
     "metadata": {},
     "output_type": "execute_result"
    }
   ],
   "source": [
    "float(10) # integer -> float"
   ]
  },
  {
   "cell_type": "markdown",
   "metadata": {},
   "source": [
    "Probably the most obvious things to note are when an integer receives a float and vice versa.  In the case of int() receiving a float, it will round the value down.  When float() receives an integer, it converts it by adding a decimal followed by a zero.  \n",
    "\n",
    "Sometimes, these functions are unable to convert the data type provided and you will receive an error message.  "
   ]
  },
  {
   "cell_type": "code",
   "execution_count": 18,
   "metadata": {},
   "outputs": [
    {
     "ename": "ValueError",
     "evalue": "invalid literal for int() with base 10: '99.99'",
     "output_type": "error",
     "traceback": [
      "\u001b[0;31m---------------------------------------------------------------------------\u001b[0m",
      "\u001b[0;31mValueError\u001b[0m                                Traceback (most recent call last)",
      "\u001b[0;32m<ipython-input-18-7e09e10be494>\u001b[0m in \u001b[0;36m<module>\u001b[0;34m\u001b[0m\n\u001b[0;32m----> 1\u001b[0;31m \u001b[0mint\u001b[0m\u001b[0;34m(\u001b[0m\u001b[0;34m'99.99'\u001b[0m\u001b[0;34m)\u001b[0m\u001b[0;34m\u001b[0m\u001b[0;34m\u001b[0m\u001b[0m\n\u001b[0m",
      "\u001b[0;31mValueError\u001b[0m: invalid literal for int() with base 10: '99.99'"
     ]
    }
   ],
   "source": [
    "int('99.99')"
   ]
  },
  {
   "cell_type": "code",
   "execution_count": 19,
   "metadata": {},
   "outputs": [
    {
     "ename": "ValueError",
     "evalue": "invalid literal for int() with base 10: 'twelve'",
     "output_type": "error",
     "traceback": [
      "\u001b[0;31m---------------------------------------------------------------------------\u001b[0m",
      "\u001b[0;31mValueError\u001b[0m                                Traceback (most recent call last)",
      "\u001b[0;32m<ipython-input-19-bcdccb17a8a6>\u001b[0m in \u001b[0;36m<module>\u001b[0;34m\u001b[0m\n\u001b[0;32m----> 1\u001b[0;31m \u001b[0mint\u001b[0m\u001b[0;34m(\u001b[0m\u001b[0;34m'twelve'\u001b[0m\u001b[0;34m)\u001b[0m\u001b[0;34m\u001b[0m\u001b[0;34m\u001b[0m\u001b[0m\n\u001b[0m",
      "\u001b[0;31mValueError\u001b[0m: invalid literal for int() with base 10: 'twelve'"
     ]
    }
   ],
   "source": [
    "int('twelve')"
   ]
  },
  {
   "cell_type": "markdown",
   "metadata": {},
   "source": [
    "#### Text and number equivalence\n",
    "Strings and number values will never be considered equivalent as they can be in non-strict JavaScript, integers and floats can be considered equivalent: "
   ]
  },
  {
   "cell_type": "code",
   "execution_count": 20,
   "metadata": {},
   "outputs": [
    {
     "data": {
      "text/plain": [
       "False"
      ]
     },
     "execution_count": 20,
     "metadata": {},
     "output_type": "execute_result"
    }
   ],
   "source": [
    "42 == '42'"
   ]
  },
  {
   "cell_type": "code",
   "execution_count": 21,
   "metadata": {},
   "outputs": [
    {
     "data": {
      "text/plain": [
       "True"
      ]
     },
     "execution_count": 21,
     "metadata": {},
     "output_type": "execute_result"
    }
   ],
   "source": [
    "42 == 42.0"
   ]
  },
  {
   "cell_type": "markdown",
   "metadata": {},
   "source": [
    "## Summary\n",
    "This chapter introduced the building blocks of Python: data types, expressions, operators, variables, and functions.  \n",
    "\n",
    "The most basic data types are strings, integers, and floats.  These are essentially text and numbers.  Python has no type coercion, so any time you want values from different data types to interact, you have to convert them manually.\n",
    "\n",
    "Operators are special characters that perform some action.  In this chapter, we primarily learned about math and string operators, which can be used to perform mathematical functions and to concatenate or replicate text, respectively. \n",
    "\n",
    "If values are the words of the Python language, expressions are the sentences.  Expressions are simple instructions given to the Python interpreter, generally by combining values and operators, which then evaluate or reduce down to one value.  \n",
    "\n",
    "Variables are often described as 'boxes', because they hold things.  In this chapter, they were used to hold single values.  They can be reused throughout a program and can be overwritten with new values.  \n",
    "\n",
    "Functions are blocks of reusable code that perform some action.  So far, we've only used built-in functions such as print(), input() len(), str(), int(), and float().  "
   ]
  },
  {
   "cell_type": "markdown",
   "metadata": {},
   "source": [
    "## Practice Questions\n",
    "1) Which of the following are operators, and which are values?\n",
    "    - * --> operator (multiplication - number values - or replication -string values)\n",
    "    - 'hello' --> value (string)\n",
    "    - -88.8 --> value (float)\n",
    "    - - --> operator (subtraction)\n",
    "    - / --> operator (division)\n",
    "    - + --> operator (addition - number values - or concatenation - string values)\n",
    "    - 5 --> value (integer)\n",
    "\n",
    "2) Which of the following is a variable, and which is a string?\n",
    "    - spam --> variable\n",
    "    - 'spam' --> string\n",
    "\n",
    "3) Name three data types\n",
    "    1. string\n",
    "    2. integer\n",
    "    3. float\n",
    "\n",
    "4) What is an expression made up of? What do all expressions do?\n",
    "    - Expressions are made up of values and operators.  They evaluate or reduce down to one value\n",
    "\n",
    "5) This chapter introduced assignment statements, like spam = 10. What is the difference between an expression and a statement?\n",
    "     - A statement is a line of code that performs an action.  In this case, the value 10 is being assigned to the variable spam.  An expression is a basic instruction that evaluates down to one value. \n",
    "\n",
    "6) What does the variable bacon contain after the following code runs?\n",
    "    bacon = 20 \n",
    "    bacon + 1\n",
    "    - bacon contains 21\n",
    "\n",
    "7) What should the following two expressions evaluate to?\n",
    "    'spam' + 'spamspam'\n",
    "    'spam' * 3\n",
    "    - 'spamspamspam'\n",
    "    \n",
    "8) Why is eggs a valid variable name while 100 is invalid?\n",
    "    - 100 is invalid because it starts with a number.  eggs is valid because it's only one word and uses only letters\n",
    "    \n",
    "9) What three functions can be used to get the integer, floating-point number, or string version of a value?\n",
    "    - int(), float(), str()\n",
    "    \n",
    "10) Why does this expression cause an error? How can you fix it?\n",
    "    'I have eaten ' + 99 + ' burritos.'\n",
    "    - 'I have eaten ' + str(99) + ' burritos.'"
   ]
  },
  {
   "cell_type": "code",
   "execution_count": null,
   "metadata": {},
   "outputs": [],
   "source": []
  }
 ],
 "metadata": {
  "kernelspec": {
   "display_name": "Python 3",
   "language": "python",
   "name": "python3"
  },
  "language_info": {
   "codemirror_mode": {
    "name": "ipython",
    "version": 3
   },
   "file_extension": ".py",
   "mimetype": "text/x-python",
   "name": "python",
   "nbconvert_exporter": "python",
   "pygments_lexer": "ipython3",
   "version": "3.7.3"
  }
 },
 "nbformat": 4,
 "nbformat_minor": 2
}
