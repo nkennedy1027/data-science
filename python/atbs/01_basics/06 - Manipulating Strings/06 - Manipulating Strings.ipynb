{
 "cells": [
  {
   "cell_type": "markdown",
   "metadata": {},
   "source": [
    "# 6 - Manipulating Strings\n",
    "Text is one of the most common and important forms of data to work with in a program. We've learned some basic methods like concatenation but Python can do so much more.  \n",
    "\n",
    "## Working with Strings\n",
    "The following sections cover the ways that Python lets you write, print, and access strings in your code.\n",
    "\n",
    "### String Literals\n",
    "As we've seen, the primary way to define a string in Python is by wrapping some text in single quotes ('').  We run into problems, though, when you need to use a single quote in a string because that will terminate the string early.  There are other challenges when dealing with strings including other special characters and multiline strings.\n",
    "\n",
    "#### Double Quotes\n",
    "To solve the problem of needing a single quote in a string, you can simply define the string with double quotes instead of single quotes.  Because the string starts with a double quote, Python won't terminate the string until it finds another double quote."
   ]
  },
  {
   "cell_type": "code",
   "execution_count": 1,
   "metadata": {},
   "outputs": [],
   "source": [
    "spam = \"That is Alice's cat.\""
   ]
  },
  {
   "cell_type": "markdown",
   "metadata": {},
   "source": [
    "#### Escape characters\n",
    "Another method of solving the single quote problem (or when you want to use other special characters) is to use an escape character, which is actually two characters: a backslash (\\) followed by the special character.  "
   ]
  },
  {
   "cell_type": "code",
   "execution_count": 2,
   "metadata": {},
   "outputs": [],
   "source": [
    "spam = 'Say hi to Bob\\'s mother'"
   ]
  },
  {
   "cell_type": "markdown",
   "metadata": {},
   "source": [
    "Other escape characters include:\n",
    "\n",
    "- \\' - Single Quote\n",
    "- \\\" - Double Quote\n",
    "- \\t - Tab\n",
    "- \\n - Newline or line break\n",
    "- \\\\ - Backslash"
   ]
  },
  {
   "cell_type": "code",
   "execution_count": 3,
   "metadata": {},
   "outputs": [
    {
     "name": "stdout",
     "output_type": "stream",
     "text": [
      "Hello there!\n",
      "How are you?\n",
      "I'm doing fine.\n"
     ]
    }
   ],
   "source": [
    "print(\"Hello there!\\nHow are you?\\nI\\'m doing fine.\")"
   ]
  },
  {
   "cell_type": "markdown",
   "metadata": {},
   "source": [
    "#### Raw Strings\n",
    "Raw strings ignore backslashes, which can be useful when working with strings that contain a lot of backslashes.  To make a string a raw string, simple place an r before the beginning quotation mark.\n"
   ]
  },
  {
   "cell_type": "code",
   "execution_count": 9,
   "metadata": {},
   "outputs": [
    {
     "name": "stdout",
     "output_type": "stream",
     "text": [
      "That is Carol\\'s cat.\n"
     ]
    }
   ],
   "source": [
    "print(r'That is Carol\\'s cat.')"
   ]
  },
  {
   "cell_type": "markdown",
   "metadata": {},
   "source": [
    "#### Multiline strings with triple quotes\n",
    "Using the \\n escape character to create new lines can get tedious and make a string unreadable.  An alternative is to use a multiline string, which is basically a normal string but it's wrapped in three single or double quotes and can span multiple lines.  You don't need to escape quotation marks in a multiline string"
   ]
  },
  {
   "cell_type": "code",
   "execution_count": 10,
   "metadata": {},
   "outputs": [
    {
     "name": "stdout",
     "output_type": "stream",
     "text": [
      "Dear Alice,\n",
      "\n",
      "Eve's cat has been arrested for catnapping, cat burglary, and extortion.\n",
      "\n",
      "Sincerely,\n",
      "Bob\n"
     ]
    }
   ],
   "source": [
    "print('''Dear Alice,\n",
    "\n",
    "Eve's cat has been arrested for catnapping, cat burglary, and extortion.\n",
    "\n",
    "Sincerely,\n",
    "Bob''')"
   ]
  },
  {
   "cell_type": "markdown",
   "metadata": {},
   "source": [
    "#### Multiline comments\n",
    "You can also use multiline string syntax in your program to create multiline comments.  As long as they aren't used in an expression, Python will recognize them as comments.  In the following example, note that only 'Hello!' is printed to the screen, not the multiline strings"
   ]
  },
  {
   "cell_type": "code",
   "execution_count": 11,
   "metadata": {},
   "outputs": [
    {
     "name": "stdout",
     "output_type": "stream",
     "text": [
      "Hello!\n"
     ]
    }
   ],
   "source": [
    "\"\"\"This is a test Python program.\n",
    "Written by Al Sweigart al@inventwithpython.com\n",
    "\n",
    "This program was designed for Python 3, not Python 2.\n",
    "\"\"\"\n",
    "\n",
    "def spam():\n",
    "    \"\"\"This is a multiline comment to help\n",
    "    explain what the spam() function does.\"\"\"\n",
    "    print('Hello!')\n",
    "spam()"
   ]
  },
  {
   "cell_type": "markdown",
   "metadata": {},
   "source": [
    "### Indexing and slicing strings\n",
    "As mentioned before, strings use indexes the same way lists do, which allows you to perform many of the same methods on strings as you can on lists. It is important to note that slicing a string doesn't modify the original string.  It only returns the new value. "
   ]
  },
  {
   "cell_type": "code",
   "execution_count": 13,
   "metadata": {},
   "outputs": [
    {
     "name": "stdout",
     "output_type": "stream",
     "text": [
      "o\n",
      "!\n",
      "Hello\n",
      "Hello\n",
      "world!\n"
     ]
    }
   ],
   "source": [
    "spam = 'Hello, world!'\n",
    "print(spam[4])\n",
    "print(spam[-1])\n",
    "print(spam[0:5])\n",
    "print(spam[:5])\n",
    "print(spam[7:])"
   ]
  },
  {
   "cell_type": "markdown",
   "metadata": {},
   "source": [
    "### The *in* and *not in* operators with strings\n",
    "The *in* and *not in* operators can also be used with strings: "
   ]
  },
  {
   "cell_type": "code",
   "execution_count": 14,
   "metadata": {},
   "outputs": [
    {
     "name": "stdout",
     "output_type": "stream",
     "text": [
      "True\n",
      "True\n",
      "False\n",
      "True\n",
      "False\n"
     ]
    }
   ],
   "source": [
    "print( 'Hello' in 'Hello, World')\n",
    "print('Hello' in 'Hello')\n",
    "print('HELLO' in 'Hello, World')\n",
    "print('' in 'spam')\n",
    "print('cats' not in 'cats and dogs')"
   ]
  },
  {
   "cell_type": "markdown",
   "metadata": {},
   "source": [
    "## Putting strings inside other strings\n",
    "It is perfectly acceptable to concatenate strings with the + operator but there is another method that is a little less tedious: string interpolation. String interpolation uses the %s operator inside the string and acts as a marker to be replaced by values following the string.  Values used in string interpolation will be automatically converted to strings so you don't need to use str()."
   ]
  },
  {
   "cell_type": "code",
   "execution_count": 15,
   "metadata": {},
   "outputs": [
    {
     "data": {
      "text/plain": [
       "'My name is Al. I am 4000 years old.'"
      ]
     },
     "execution_count": 15,
     "metadata": {},
     "output_type": "execute_result"
    }
   ],
   "source": [
    "name = 'Al'\n",
    "age = 4000\n",
    "'My name is %s. I am %s years old.' % (name, age)"
   ]
  },
  {
   "cell_type": "markdown",
   "metadata": {},
   "source": [
    "A newer method of string interpolation is using *f-strings*. To create an f-string, you precede the string with f and put the values you want to interpolate in brackets within the string itself.  "
   ]
  },
  {
   "cell_type": "code",
   "execution_count": 16,
   "metadata": {},
   "outputs": [
    {
     "data": {
      "text/plain": [
       "'My name is Al. Next year I will be 4001'"
      ]
     },
     "execution_count": 16,
     "metadata": {},
     "output_type": "execute_result"
    }
   ],
   "source": [
    "name = 'Al'\n",
    "age = 4000\n",
    "f'My name is {name}. Next year I will be {age + 1}'"
   ]
  },
  {
   "cell_type": "markdown",
   "metadata": {},
   "source": [
    "## Useful string methods\n",
    "### Text case methods\n",
    "The *upper()* and *lower()* methods take a string and return a new string with the original characters converted to upper or lowercase, respectively.  The *isupper()* and *islower()* methods return a Boolean indicating whether or not the provided string contains all upper or lowercase strings, respectively.  If the string provided doesn't include at least one letter, it will return False. \n",
    "\n",
    "### The *isX()* methods\n",
    "There are several other methods that check characteristics of a string and return a Boolean telling you whether or not the string meets certain conditions.  \n",
    "\n",
    "- isalpha() Returns True if the string consists only of letters and isn’t blank\n",
    "- isalnum() Returns True if the string consists only of letters and numbers and is not blank\n",
    "- isdecimal() Returns True if the string consists only of numeric characters and is not blank\n",
    "- isspace() Returns True if the string consists only of spaces, tabs, and newlines and is not blank\n",
    "- istitle() Returns True if the string consists only of words that begin with an uppercase letter followed by only lowercase letters\n",
    "\n",
    "\n",
    "These methods are particularly useful when validating input:"
   ]
  },
  {
   "cell_type": "code",
   "execution_count": 1,
   "metadata": {},
   "outputs": [
    {
     "name": "stdout",
     "output_type": "stream",
     "text": [
      "Enter your age:\n",
      "asdf\n",
      "Please enter a number for your age\n",
      "Enter your age:\n",
      "123\n",
      "Select a new password (letters and numbers only):\n",
      "!@#%%^^\n",
      "Passwords can only have letters and numbers\n",
      "Select a new password (letters and numbers only):\n",
      "asdf\n"
     ]
    }
   ],
   "source": [
    "while True:\n",
    "    print('Enter your age:')\n",
    "    age = input()\n",
    "    if age.isdecimal():\n",
    "        break\n",
    "    print('Please enter a number for your age')\n",
    "\n",
    "while True:\n",
    "    print('Select a new password (letters and numbers only):')\n",
    "    password = input()\n",
    "    if password.isalnum():\n",
    "        break\n",
    "    print('Passwords can only have letters and numbers')"
   ]
  },
  {
   "cell_type": "markdown",
   "metadata": {},
   "source": [
    "### The *startswith()* and *endswith()* methods\n",
    "These methods take a string and return True if the string begins or ends with the string provided as an argument.  "
   ]
  },
  {
   "cell_type": "code",
   "execution_count": 2,
   "metadata": {},
   "outputs": [
    {
     "data": {
      "text/plain": [
       "True"
      ]
     },
     "execution_count": 2,
     "metadata": {},
     "output_type": "execute_result"
    }
   ],
   "source": [
    "'Hello, world'.startswith('Hello')"
   ]
  },
  {
   "cell_type": "code",
   "execution_count": 3,
   "metadata": {},
   "outputs": [
    {
     "data": {
      "text/plain": [
       "True"
      ]
     },
     "execution_count": 3,
     "metadata": {},
     "output_type": "execute_result"
    }
   ],
   "source": [
    "'Hello, world'.endswith('world')"
   ]
  },
  {
   "cell_type": "markdown",
   "metadata": {},
   "source": [
    "### The *join()* and *split()* methods\n",
    "These methods are used to convert lists to strings and strings to lists, respectively.  The *join()* method is called on a separator string and is passed a list of strings.  It then concatenates the list items with the separator inserted between each item. "
   ]
  },
  {
   "cell_type": "code",
   "execution_count": 4,
   "metadata": {},
   "outputs": [
    {
     "data": {
      "text/plain": [
       "'cats, rats, bats'"
      ]
     },
     "execution_count": 4,
     "metadata": {},
     "output_type": "execute_result"
    }
   ],
   "source": [
    "', '.join(['cats', 'rats', 'bats'])"
   ]
  },
  {
   "cell_type": "markdown",
   "metadata": {},
   "source": [
    "The *split()* method is called on a string and is passed a delimiter string as an argument.  It then breaks up the string into a list based on the delimiter. The default delimiter is whitespace."
   ]
  },
  {
   "cell_type": "code",
   "execution_count": 5,
   "metadata": {},
   "outputs": [
    {
     "data": {
      "text/plain": [
       "['My', 'name', 'is', 'Simon']"
      ]
     },
     "execution_count": 5,
     "metadata": {},
     "output_type": "execute_result"
    }
   ],
   "source": [
    "'My name is Simon'.split()"
   ]
  },
  {
   "cell_type": "code",
   "execution_count": 6,
   "metadata": {},
   "outputs": [
    {
     "data": {
      "text/plain": [
       "['My', 'name', 'is', 'Simon']"
      ]
     },
     "execution_count": 6,
     "metadata": {},
     "output_type": "execute_result"
    }
   ],
   "source": [
    " 'MyABCnameABCisABCSimon'.split('ABC')"
   ]
  },
  {
   "cell_type": "markdown",
   "metadata": {},
   "source": [
    "### Splitting strings with the *partition()* method\n",
    "The *partition()* method splits a string into three parts based on a provided separator.  It finds the separator and returns a tuple that includes the characters that occurred before the separator, the separator, and the characters that occured after the separator.  If the separator occurs more than once in the string, it will only partition the first instance.  If it doesn't exist in the string, the first value of the tuple will be the entire string, and the remaining two will be empty strings.  You can also assign the tuple values to variables by using the multiple assignment trick."
   ]
  },
  {
   "cell_type": "code",
   "execution_count": 7,
   "metadata": {},
   "outputs": [
    {
     "data": {
      "text/plain": [
       "('Hello, ', 'w', 'orld!')"
      ]
     },
     "execution_count": 7,
     "metadata": {},
     "output_type": "execute_result"
    }
   ],
   "source": [
    "'Hello, world!'.partition('w')"
   ]
  },
  {
   "cell_type": "code",
   "execution_count": 8,
   "metadata": {},
   "outputs": [
    {
     "data": {
      "text/plain": [
       "('Hell', 'o', ', world!')"
      ]
     },
     "execution_count": 8,
     "metadata": {},
     "output_type": "execute_result"
    }
   ],
   "source": [
    "'Hello, world!'.partition('o')"
   ]
  },
  {
   "cell_type": "code",
   "execution_count": 9,
   "metadata": {},
   "outputs": [
    {
     "data": {
      "text/plain": [
       "('Hello, world!', '', '')"
      ]
     },
     "execution_count": 9,
     "metadata": {},
     "output_type": "execute_result"
    }
   ],
   "source": [
    "'Hello, world!'.partition('XYZ')"
   ]
  },
  {
   "cell_type": "code",
   "execution_count": 10,
   "metadata": {},
   "outputs": [
    {
     "data": {
      "text/plain": [
       "'Hello,'"
      ]
     },
     "execution_count": 10,
     "metadata": {},
     "output_type": "execute_result"
    }
   ],
   "source": [
    "before, sep, after = 'Hello, world!'.partition(' ')\n",
    "before"
   ]
  },
  {
   "cell_type": "markdown",
   "metadata": {},
   "source": [
    "### Justifying text with the *rjust()*, *ljust()*, and *center()* methods\n",
    "These methods don't exactly do what you would expect them to.  They are called on a string and take an integer and an optional string as arguments.  These methods then return a string of a specified length.  If the original string is shorter than the specified length, it will be padded on the left, right, or either side with the remaining amount of characters giving it the appearance of being justified to the right, left, or center, respectively. The first argument is the length of the string, and the second optional argument is the type of character used in the padding.  If no second argument is provided, it will default to whitespace.    "
   ]
  },
  {
   "cell_type": "code",
   "execution_count": 11,
   "metadata": {},
   "outputs": [
    {
     "data": {
      "text/plain": [
       "'     Hello'"
      ]
     },
     "execution_count": 11,
     "metadata": {},
     "output_type": "execute_result"
    }
   ],
   "source": [
    "'Hello'.rjust(10)"
   ]
  },
  {
   "cell_type": "code",
   "execution_count": 12,
   "metadata": {},
   "outputs": [
    {
     "data": {
      "text/plain": [
       "'Hello     '"
      ]
     },
     "execution_count": 12,
     "metadata": {},
     "output_type": "execute_result"
    }
   ],
   "source": [
    "'Hello'.ljust(10)"
   ]
  },
  {
   "cell_type": "code",
   "execution_count": 13,
   "metadata": {},
   "outputs": [
    {
     "data": {
      "text/plain": [
       "'***************Hello'"
      ]
     },
     "execution_count": 13,
     "metadata": {},
     "output_type": "execute_result"
    }
   ],
   "source": [
    "'Hello'.rjust(20, '*')"
   ]
  },
  {
   "cell_type": "code",
   "execution_count": 14,
   "metadata": {},
   "outputs": [
    {
     "data": {
      "text/plain": [
       "'       Hello        '"
      ]
     },
     "execution_count": 14,
     "metadata": {},
     "output_type": "execute_result"
    }
   ],
   "source": [
    "'Hello'.center(20)"
   ]
  },
  {
   "cell_type": "code",
   "execution_count": 15,
   "metadata": {},
   "outputs": [
    {
     "name": "stdout",
     "output_type": "stream",
     "text": [
      "---PICNIC ITEMS--\n",
      "sandwiches..    4\n",
      "apples......   12\n",
      "cups........    4\n",
      "cookies..... 8000\n",
      "-------PICNIC ITEMS-------\n",
      "sandwiches..........     4\n",
      "apples..............    12\n",
      "cups................     4\n",
      "cookies.............  8000\n"
     ]
    }
   ],
   "source": [
    "def printPicnic(itemsDict, leftWidth, rightWidth):\n",
    "    print('PICNIC ITEMS'.center(leftWidth + rightWidth, '-'))\n",
    "    for k, v in itemsDict.items():\n",
    "        print(k.ljust(leftWidth, '.') + str(v).rjust(rightWidth))\n",
    "\n",
    "picnicItems = {'sandwiches': 4, 'apples': 12, 'cups': 4, 'cookies': 8000}\n",
    "printPicnic(picnicItems, 12, 5)\n",
    "printPicnic(picnicItems, 20, 6)"
   ]
  },
  {
   "cell_type": "markdown",
   "metadata": {},
   "source": [
    "### Removing whitespace with the *strip()*, *rstrip()*, and *lstrip()* methods\n",
    "These method remove whitespace from both sides, the right side, or the left side of a string, respectively.  If you want to remove something other than whitespace, you can provide a string as an argument and only characters equivalent to the argument will be removed from either end. The order of the characters in the argument aren't taken into account; it will just remove any occurance of those characters before or after the string.  "
   ]
  },
  {
   "cell_type": "code",
   "execution_count": 17,
   "metadata": {},
   "outputs": [
    {
     "data": {
      "text/plain": [
       "'Hello, World'"
      ]
     },
     "execution_count": 17,
     "metadata": {},
     "output_type": "execute_result"
    }
   ],
   "source": [
    "spam = '    Hello, World    '\n",
    "spam.strip()"
   ]
  },
  {
   "cell_type": "code",
   "execution_count": 18,
   "metadata": {},
   "outputs": [
    {
     "data": {
      "text/plain": [
       "'Hello, World    '"
      ]
     },
     "execution_count": 18,
     "metadata": {},
     "output_type": "execute_result"
    }
   ],
   "source": [
    "spam.lstrip()"
   ]
  },
  {
   "cell_type": "code",
   "execution_count": 19,
   "metadata": {},
   "outputs": [
    {
     "data": {
      "text/plain": [
       "'    Hello, World'"
      ]
     },
     "execution_count": 19,
     "metadata": {},
     "output_type": "execute_result"
    }
   ],
   "source": [
    "spam.rstrip()"
   ]
  },
  {
   "cell_type": "code",
   "execution_count": 21,
   "metadata": {},
   "outputs": [
    {
     "data": {
      "text/plain": [
       "'BaconSpamEggs'"
      ]
     },
     "execution_count": 21,
     "metadata": {},
     "output_type": "execute_result"
    }
   ],
   "source": [
    "spam = 'SpamSpamBaconSpamEggsSpamSpam'\n",
    "spam.strip('ampS')"
   ]
  },
  {
   "cell_type": "markdown",
   "metadata": {},
   "source": [
    "## Numeric Values of Characters with the *ord()* and *chr()* Functions \n",
    "These function return the numeric Unicode code point value or the character that corresponds to the numeric Unicode code point value, respectively.  They are particularly useful when you need to order or do mathematical operations on characters"
   ]
  },
  {
   "cell_type": "code",
   "execution_count": 22,
   "metadata": {},
   "outputs": [
    {
     "data": {
      "text/plain": [
       "65"
      ]
     },
     "execution_count": 22,
     "metadata": {},
     "output_type": "execute_result"
    }
   ],
   "source": [
    "ord('A')"
   ]
  },
  {
   "cell_type": "code",
   "execution_count": 23,
   "metadata": {},
   "outputs": [
    {
     "data": {
      "text/plain": [
       "52"
      ]
     },
     "execution_count": 23,
     "metadata": {},
     "output_type": "execute_result"
    }
   ],
   "source": [
    "ord('4')"
   ]
  },
  {
   "cell_type": "code",
   "execution_count": 24,
   "metadata": {},
   "outputs": [
    {
     "data": {
      "text/plain": [
       "33"
      ]
     },
     "execution_count": 24,
     "metadata": {},
     "output_type": "execute_result"
    }
   ],
   "source": [
    "ord('!')"
   ]
  },
  {
   "cell_type": "code",
   "execution_count": 25,
   "metadata": {},
   "outputs": [
    {
     "data": {
      "text/plain": [
       "'A'"
      ]
     },
     "execution_count": 25,
     "metadata": {},
     "output_type": "execute_result"
    }
   ],
   "source": [
    "chr(65)"
   ]
  },
  {
   "cell_type": "code",
   "execution_count": 26,
   "metadata": {},
   "outputs": [
    {
     "data": {
      "text/plain": [
       "True"
      ]
     },
     "execution_count": 26,
     "metadata": {},
     "output_type": "execute_result"
    }
   ],
   "source": [
    "ord('A') < ord('B')"
   ]
  },
  {
   "cell_type": "code",
   "execution_count": 27,
   "metadata": {},
   "outputs": [
    {
     "data": {
      "text/plain": [
       "'B'"
      ]
     },
     "execution_count": 27,
     "metadata": {},
     "output_type": "execute_result"
    }
   ],
   "source": [
    "chr(ord('A') + 1)"
   ]
  },
  {
   "cell_type": "markdown",
   "metadata": {},
   "source": [
    "## Copying and Pasting Strings with the pyperclip Module\n",
    "The pyperclip module can copy and paste values to and from your clipboard using its *copy()* and *paste()* methods.  Like other modules, you have to import it into your program manually.  To copy something you have to pass the value you want to be added to the clipboard as an argument in *pyperclip.copy()*.  Then you simply call *pyperclip.paste()* and it will return the clipboard value. "
   ]
  },
  {
   "cell_type": "code",
   "execution_count": 28,
   "metadata": {},
   "outputs": [
    {
     "data": {
      "text/plain": [
       "'Hello, world!'"
      ]
     },
     "execution_count": 28,
     "metadata": {},
     "output_type": "execute_result"
    }
   ],
   "source": [
    "import pyperclip\n",
    "pyperclip.copy('Hello, world!')\n",
    "pyperclip.paste()"
   ]
  },
  {
   "cell_type": "markdown",
   "metadata": {},
   "source": [
    "## Chapter Projects\n",
    "- Multi-Clipboard Automatic Messages\n",
    "- Adding Bullets to Wiki Markup\n",
    "- Pig Latin"
   ]
  },
  {
   "cell_type": "markdown",
   "metadata": {},
   "source": [
    "## Summary\n",
    "Python comes with a number of methods that are useful in dealing with text-based data.  What we've done so far is still somewhat basic (just using print() and input() in the terminal), but it is still quite powerful compared to doing everything manually.  \n",
    "\n",
    "We are now at a point where we can combine our knowledge with Python modules to start working with web pages, files on your hard drive, spreadsheets, text messages, and more.  "
   ]
  },
  {
   "cell_type": "markdown",
   "metadata": {},
   "source": [
    "## Practice Questions\n",
    "1. What are escape characters?\n",
    "    - escape characters are characters located in a string that consist of a backslash followed by another character.  The backslash tells Python to interpret the special meaning of the following character, rather than see it as part of the string.\n",
    "\n",
    "\n",
    "2. What do the \\n and \\t escape characters represent?\n",
    "    - the \\n character represents a new line and the \\t represents a tab.\n",
    "\n",
    "\n",
    "3. How can you put a \\ backslash character in a string?\n",
    "    - You can put a backslash character in a string by using raw string syntax, which simply means adding an r before the first quotation mark in a string (ie r'here\\'s my string').\n",
    "\n",
    "4. The string value \"Howl's Moving Castle\" is a valid string. Why isn’t it a problem that the single quote character in the word Howl's isn’t escaped?\n",
    "    - This is a valid string because it is wrapped in double quotes, so Python isn't looking for a single quote to close the string. \n",
    "    \n",
    "\n",
    "5. If you don’t want to put \\n in your string, how can you write a string with newlines in it?\n",
    "    - You can use multiline string syntax, which requires strings to be wrapped in triple quotes (single or double).  \n",
    "\n",
    "6. What do the following expressions evaluate to?\n",
    "    - 'Hello, world!'[1] -- 'e'\n",
    "    - 'Hello, world!'[0:5] -- 'Hello'\n",
    "    - 'Hello, world!'[:5] -- 'Hello'\n",
    "    - 'Hello, world!'[3:] -- 'lo, world!'\n",
    "\n",
    "\n",
    "7. What do the following expressions evaluate to?\n",
    "    - 'Hello'.upper() -- 'HELLO'\n",
    "    - 'Hello'.upper().isupper() -- True\n",
    "    - 'Hello'.upper().lower() -- 'hello'\n",
    "\n",
    "\n",
    "8. What do the following expressions evaluate to?\n",
    "    - 'Remember, remember, the fifth of November.'.split() -- ['Remember,', 'remember,', 'the', 'fifth', 'of', 'November.']\n",
    "    - '-'.join('There can be only one.'.split()) -- 'There-can-be-only-one.'\n",
    "\n",
    "\n",
    "9. What string methods can you use to right-justify, left-justify, and center a string?\n",
    "    - rjust(), ljust(), center()\n",
    "\n",
    "\n",
    "10. How can you trim whitespace characters from the beginning or end of a string?\n",
    "    - strip() removes from both sides, rstrip() from the right side, and lstrip() from the left side\n",
    "    \n",
    "    "
   ]
  },
  {
   "cell_type": "markdown",
   "metadata": {},
   "source": [
    "## Practice Projects\n",
    "### Table Printer\n",
    "Write a function named printTable() that takes a list of lists of strings and displays it in a well-organized table with each column right-justified. "
   ]
  },
  {
   "cell_type": "code",
   "execution_count": 16,
   "metadata": {},
   "outputs": [
    {
     "name": "stdout",
     "output_type": "stream",
     "text": [
      "  apples Alice  dogs\n",
      " oranges   Bob  cats\n",
      "cherries Carol moose\n",
      "  banana David goose\n"
     ]
    }
   ],
   "source": [
    "tableData = [['apples', 'oranges', 'cherries', 'banana'],\n",
    "             ['Alice', 'Bob', 'Carol', 'David'],\n",
    "             ['dogs', 'cats', 'moose', 'goose']]\n",
    "\n",
    "def printTable():\n",
    "    longestAmounts = []\n",
    "    \n",
    "    # Add values to longestAmounts so we can reference longestAmounts indexes in the next step\n",
    "    for i in range(len(tableData)):\n",
    "        longestAmounts.append(0)\n",
    "    \n",
    "    # Find the longest string in each row of tableData\n",
    "    for i, row in enumerate(tableData): \n",
    "        for s in row:\n",
    "            if len(s) > longestAmounts[i]:\n",
    "                longestAmounts[i] = len(s)\n",
    "    \n",
    "    # Loop through each of the 'columns' of tableData\n",
    "    for i in range(len(tableData[0])):\n",
    "        \n",
    "        # Loop through each 'row' in tableData\n",
    "        for rowInd, row in enumerate(tableData):\n",
    "            # For each row, print the value of the column index\n",
    "            \n",
    "            # If the current value is in the last row, use default print to create a new line\n",
    "            if (rowInd == len(tableData) - 1):\n",
    "                print(row[i].rjust(longestAmounts[rowInd]))\n",
    "            \n",
    "            # Otherwise, end the print with a space\n",
    "            else:\n",
    "                print(row[i].rjust(longestAmounts[rowInd]), end=' ')\n",
    "printTable()"
   ]
  },
  {
   "cell_type": "markdown",
   "metadata": {},
   "source": [
    "### Zombie Dice Bots\n"
   ]
  },
  {
   "cell_type": "code",
   "execution_count": 1,
   "metadata": {},
   "outputs": [
    {
     "ename": "SyntaxError",
     "evalue": "invalid syntax (<ipython-input-1-c3e5f992f2cf>, line 4)",
     "output_type": "error",
     "traceback": [
      "\u001b[0;36m  File \u001b[0;32m\"<ipython-input-1-c3e5f992f2cf>\"\u001b[0;36m, line \u001b[0;32m4\u001b[0m\n\u001b[0;31m    def_init_(self, name):\u001b[0m\n\u001b[0m                          ^\u001b[0m\n\u001b[0;31mSyntaxError\u001b[0m\u001b[0;31m:\u001b[0m invalid syntax\n"
     ]
    }
   ],
   "source": [
    "import zombiedice\n",
    "\n",
    "class MyZombie:\n",
    "    def_init_(self, name):\n",
    "        # All zombies must have a name:\n",
    "        self.name = name\n",
    "        \n",
    "        def turn(self, gameState):\n",
    "            # gameState is a dict with info about the current state of the game\n",
    "            \n",
    "            diceRollResults = zombiedice.roll() # first roll\n",
    "            # roll() returns a dictionary with keys 'brains', 'shotgun', and\n",
    "            # 'footsteps' with how many rolls of each type there were.\n",
    "            # The 'rolls' key is a list of (color, icon) tuples with the\n",
    "            # exact roll result information.\n",
    "            # Example of a roll() return value:\n",
    "            # {'brains': 1, 'footsteps': 1, 'shotgun': 1,\n",
    "            #  'rolls': [('yellow', 'brains'), ('red', 'footsteps'),\n",
    "            #            ('green', 'shotgun')]}\n",
    "            \n",
    "            "
   ]
  },
  {
   "cell_type": "code",
   "execution_count": null,
   "metadata": {},
   "outputs": [],
   "source": []
  }
 ],
 "metadata": {
  "kernelspec": {
   "display_name": "Python 3",
   "language": "python",
   "name": "python3"
  },
  "language_info": {
   "codemirror_mode": {
    "name": "ipython",
    "version": 3
   },
   "file_extension": ".py",
   "mimetype": "text/x-python",
   "name": "python",
   "nbconvert_exporter": "python",
   "pygments_lexer": "ipython3",
   "version": "3.7.3"
  }
 },
 "nbformat": 4,
 "nbformat_minor": 2
}
