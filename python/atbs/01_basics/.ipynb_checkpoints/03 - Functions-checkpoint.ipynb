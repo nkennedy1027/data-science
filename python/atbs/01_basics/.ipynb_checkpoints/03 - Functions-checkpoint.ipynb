{
 "cells": [
  {
   "cell_type": "markdown",
   "metadata": {},
   "source": [
    "# 3 Functions\n",
    "Functions are basically blocks of reusable code.  They are like miniprograms within a program.  We've already seen several - print(), input(), len() - but haven't seen how they work yet.  They are very simple to create:"
   ]
  },
  {
   "cell_type": "code",
   "execution_count": 3,
   "metadata": {},
   "outputs": [
    {
     "name": "stdout",
     "output_type": "stream",
     "text": [
      "Howdy!\n",
      "Howdy!!!\n",
      "Hello there.\n"
     ]
    }
   ],
   "source": [
    "def hello():\n",
    "    print('Howdy!')\n",
    "    print('Howdy!!!')\n",
    "    print('Hello there.')\n",
    "hello()"
   ]
  },
  {
   "cell_type": "markdown",
   "metadata": {},
   "source": [
    "Functions are comprised of: \n",
    "1. a *def* keyword, which tells the interpreter that we are defining a function\n",
    "2. the name of the function \n",
    "3. closed parentheses\n",
    "4. a colon\n",
    "5. on the next line and indented one level, the body of the function begins\n",
    "\n",
    "The body of the function is only executed when the function is called (the last line of the example above), not when it is defined. \n",
    "\n",
    "The primary purpose of function is to reduce the need to duplicate code, which can quickly get cumbersome and makes debugging very difficult.  "
   ]
  },
  {
   "cell_type": "markdown",
   "metadata": {},
   "source": [
    "## *def* Statements with Parameters\n",
    "The values you provide to a function between its parentheses are called **arguments**.  We've already seen this in action with most of the in-built functions we've used (ie print('value'), len('value'), str(1234), etc).  **Parameters** are the variables that represent those values when defining a function. Parameters are forgotton when the function returns. \n",
    "\n",
    "## Clarifying *Define*, *Call*, *Pass*, *Argument*, and *Parameter*\n",
    "- define: to define a function is to create it.  This is done using the *def* keyword.  The body of the function is not executed at this point.  \n",
    "- call: this is when a function is actually executed, and can happen anywhere in your code after its definition. It is done simply by writing the name followed by closed parentheses\n",
    "- pass: when you provide a value between the closed parentheses, this action is known as *passing* the value to the function\n",
    "- argument: this is the value that you pass to the function.  Arguments are actual data values, NOT variables used in defining a funciton.\n",
    "- parameter: this is what the variables used in defining a function are known as.  They are NOT data values.  \n",
    "\n",
    "## Return Values and *return* Statements\n",
    "In general, the value that a function evaluates to is called the *return value*.  For example, len('Hello') evaluates to 5.  Not all functions have a return value.  When defining a function you can specify a return value using the *return* keyword followed by the value or expression that the function should return. "
   ]
  },
  {
   "cell_type": "code",
   "execution_count": 4,
   "metadata": {},
   "outputs": [
    {
     "name": "stdout",
     "output_type": "stream",
     "text": [
      "Very doubtful\n"
     ]
    }
   ],
   "source": [
    "import random\n",
    "\n",
    "def getAnswer(answerNumber):\n",
    "    if answerNumber == 1:\n",
    "        return 'It is certain'\n",
    "    elif answerNumber == 2:\n",
    "        return 'It is decidedly so'\n",
    "    elif answerNumber == 3:\n",
    "        return 'Yes'\n",
    "    elif answerNumber == 4:\n",
    "        return 'Reply hazy try again'\n",
    "    elif answerNumber == 5:\n",
    "        return 'Ask again later'\n",
    "    elif answerNumber == 6:\n",
    "        return 'Concentrate and ask again'\n",
    "    elif answerNumber == 7:\n",
    "        return 'My reply is no'\n",
    "    elif answerNumber == 8:\n",
    "        return 'Outlook not so good'\n",
    "    elif answerNumber == 9:\n",
    "        return 'Very doubtful'\n",
    "    \n",
    "r = random.randint(1,9)\n",
    "fortune = getAnswer(r)\n",
    "print(fortune)"
   ]
  },
  {
   "cell_type": "markdown",
   "metadata": {},
   "source": [
    "Notice how getAnswer(r) is assigned to the variable *fortune*.  Because there is a return value in the function, *fortune* is equal to a string value, not the function itself.  That's why *print(fortune)* results in 'Very Doubtful'. \n",
    "\n",
    "Also, it is possible to pass return values as an argument in another function call.  Therefore we can reqrite the last three lines of the above example as follows:"
   ]
  },
  {
   "cell_type": "code",
   "execution_count": 6,
   "metadata": {},
   "outputs": [
    {
     "name": "stdout",
     "output_type": "stream",
     "text": [
      "Yes\n"
     ]
    }
   ],
   "source": [
    "print(getAnswer(random.randint(1,9)))"
   ]
  },
  {
   "cell_type": "markdown",
   "metadata": {},
   "source": [
    "## The None Value\n",
    "Like *null* in JavaScript, Python's *None* represents the absence of a value.  The *None* value is useful when you need to store something that won't be confused for a real value in a variable as in the return value of *print()*.  It displays on the screen but doesn't evaluate to a value, and doesn't need to.  Unless you explicitly define a *return* value, Python adds *return None* to every function behind the scenes.\n",
    "\n",
    "## Keyword Arguments and the *print()* Function\n",
    "Most arguments passed to a function are identified by the order that they appear within the calling function's parentheses.  *Keyword arguments* are the exception.  These are identified instead by the keyword put before them in the function call, and are often used for *optional parameters*.  The *print()* function has two optional parameters, *end* (defines what should be printed at the end of *print()*'s arguments) and *sep* (defines what should be printed between *print()*'s arguments). \n",
    "\n",
    "By default, *print()* adds a newline character at the end of the passed arguments, but this can be overwritten by using *end* keyword argument:"
   ]
  },
  {
   "cell_type": "code",
   "execution_count": 7,
   "metadata": {},
   "outputs": [
    {
     "name": "stdout",
     "output_type": "stream",
     "text": [
      "HelloWorld\n"
     ]
    }
   ],
   "source": [
    "print('Hello', end='')\n",
    "print('World')"
   ]
  },
  {
   "cell_type": "markdown",
   "metadata": {},
   "source": [
    "Usually 'Hello' and 'World' would appear on separate lines.  \n",
    "\n",
    "If you pass multiple strings to *print()*, usually it would separate each of those strings with a single space, but like the example above, you can override this default, this time using the *sep* keyword: "
   ]
  },
  {
   "cell_type": "code",
   "execution_count": 8,
   "metadata": {},
   "outputs": [
    {
     "name": "stdout",
     "output_type": "stream",
     "text": [
      "cats and dogs and mice\n"
     ]
    }
   ],
   "source": [
    "print('cats','dogs','mice', sep=' and ')"
   ]
  },
  {
   "cell_type": "markdown",
   "metadata": {},
   "source": [
    "It is possible to add your own keywords but this will come in later chapters after learning about lists and dictionaries. "
   ]
  },
  {
   "cell_type": "markdown",
   "metadata": {},
   "source": [
    "## The Call Stack\n",
    "When a function is called, the Python interpreter remembers which line of code called the function and knows to return back to it after the function's (implicit or explicit) return statement is reached.  Functions can also call other functions, so the interpreter will return to the call site of *those* functions once they're completed as well.  \n",
    "\n",
    "The **call stack** is how Python remembers where to return the execution after each function call.  Python utilizes what's known as *frame objects* when you call a function.  Each time a function is called a new *frame object* is put on top of the call stack and the line number is stored.  As functions within functions are called, more *frame objects* are added to the *top* of the call stack.  Always the top.  And then the functions are completed from the top down.  A function that calls another function can't be completed until the newest function is completed.  \n",
    "\n",
    "While it isn't that important to understand this concept in-depth, it is useful for understanding *local* and *global scope*. \n",
    "\n",
    "## Local and Global Scope\n",
    "A *scope*  is essentially a container for variables, which only exist as long as their containing scope exist.  There are two types of scope: local and global.  First, the global scope.  There is only one global scope and it is created when your program begins and is destroyed when your program ends.  Variables created here are considered *global variables* and will disappear after the global scope is destroyed.  \n",
    "\n",
    "Once you create a function on the global scope, a local scope is created.  Any variables created within functions are considered *local variables* (conversely, global variables are only those that are outside of any function).  As with the global scope, once the local scope is destroyed (aka the function is returned), all of its local variables are lost and will not be remembered the next time you call that function.  \n",
    "\n",
    "Some important things about scope: \n",
    "* Code in the global scope cannot access local variables\n",
    "* Code in local scopes can access global variables\n",
    "* Code in local scope cannot use variables from other local scopes (unless, I'm assuming, there are nested local scopes)\n",
    "* You can use the same name for variables if they are in different scopes.\n",
    "\n",
    "### The *global* Statement\n",
    "The last point had me wondering, because in JavaScript you can't repeat names in nested scopes (ie global and local).  Python allows it because of the *global* statement.  If you want to use a global variable in a local scope, you just have to precede it with the *global* keyword to let the interpreter know that you are referring to a global variable instead of a new local variable.  "
   ]
  },
  {
   "cell_type": "code",
   "execution_count": 1,
   "metadata": {},
   "outputs": [
    {
     "name": "stdout",
     "output_type": "stream",
     "text": [
      "spam\n"
     ]
    }
   ],
   "source": [
    "def spam():\n",
    "  global eggs\n",
    "  eggs = 'spam'\n",
    "\n",
    "eggs = 'global'\n",
    "spam()\n",
    "print(eggs)"
   ]
  },
  {
   "cell_type": "markdown",
   "metadata": {},
   "source": [
    "There are four rules for determining whether or not a variable is in local or global scope:\n",
    "1. If the variable is used outside any functions, it is global.\n",
    "2. If there is a *global* keyword before it, it is global\n",
    "3. If the variable inside a local scope is not used in an assignment statement, it is global.\n",
    "4. Otherwise it is local. "
   ]
  },
  {
   "cell_type": "markdown",
   "metadata": {},
   "source": [
    "## Exception Handling\n",
    "Unless you explicitly tell it to, your program will stop completely if it runs into an error, or *exception*.  The way to tell it to *handle* the *exception* rather than shutting down, is with a *try* and *except* statements.  These statements have one clause each.  The first clause, following the *try* statement, is what will contain the potentially problematic code.  If an error occurs, the program will move to the *except* clause to see how it should deal with that error.  "
   ]
  },
  {
   "cell_type": "code",
   "execution_count": 2,
   "metadata": {},
   "outputs": [
    {
     "name": "stdout",
     "output_type": "stream",
     "text": [
      "21.0\n",
      "3.5\n",
      "Error: Invalid argument\n",
      "None\n",
      "0.03403565640194489\n"
     ]
    }
   ],
   "source": [
    "def spam(divideBy):\n",
    "    try:\n",
    "        return 42 / divideBy\n",
    "    except ZeroDivisionError:\n",
    "        print('Error: Invalid argument')\n",
    "\n",
    "print(spam(2))\n",
    "print(spam(12))\n",
    "print(spam(0))\n",
    "print(spam(1234))"
   ]
  },
  {
   "cell_type": "markdown",
   "metadata": {},
   "source": [
    "An important feature of the *try* block is that when an error occurs, the program will exit that block immediately and go to the *except* block.  Therefore if there is any code following the error, it won't be run.  This can be demonstrated by re-writing the above example:"
   ]
  },
  {
   "cell_type": "code",
   "execution_count": 4,
   "metadata": {},
   "outputs": [
    {
     "name": "stdout",
     "output_type": "stream",
     "text": [
      "21.0\n",
      "3.5\n",
      "Error: Invalid argument\n"
     ]
    }
   ],
   "source": [
    "def spam(divideBy):\n",
    "    return 42 / divideBy\n",
    "\n",
    "try:\n",
    "    print(spam(2))\n",
    "    print(spam(12))\n",
    "    print(spam(0))\n",
    "    print(spam(1234)) # this will not be run\n",
    "except ZeroDivisionError:\n",
    "    print('Error: Invalid argument')\n",
    "    "
   ]
  },
  {
   "cell_type": "markdown",
   "metadata": {},
   "source": [
    "## A Short Program: ZigZag\n",
    "This program creates a back-and-forth zigzagging pattern until the user stops it. "
   ]
  },
  {
   "cell_type": "code",
   "execution_count": 13,
   "metadata": {},
   "outputs": [
    {
     "name": "stdout",
     "output_type": "stream",
     "text": [
      "********\n",
      " ********\n",
      "  ********\n",
      "   ********\n",
      "    ********\n",
      "     ********\n",
      "      ********\n",
      "       ********\n",
      "        ********\n",
      "         ********\n",
      "          ********\n",
      "         ********\n",
      "        ********\n",
      "       ********\n",
      "      ********\n",
      "     ********\n",
      "    ********\n",
      "   ********\n",
      "  ********\n",
      " ********\n",
      "********\n",
      " ********\n",
      "  ********\n",
      "   ********\n",
      "    ********\n",
      "     ********\n",
      "      ********\n",
      "       ********\n",
      "        ********\n",
      "         ********\n"
     ]
    },
    {
     "ename": "SystemExit",
     "evalue": "",
     "output_type": "error",
     "traceback": [
      "An exception has occurred, use %tb to see the full traceback.\n",
      "\u001b[0;31mSystemExit\u001b[0m\n"
     ]
    }
   ],
   "source": [
    "import time, sys\n",
    "indent = 0  # How many spaces to indent\n",
    "indentIncreasing = True # whether the indentation is increasing or not\n",
    "\n",
    "def increaseIndent():\n",
    "    #Increase the number of spaces\n",
    "    global indent \n",
    "    indent = indent + 1\n",
    "    if indent == 10:\n",
    "        # Change direction:\n",
    "        global indentIncreasing \n",
    "        indentIncreasing = False\n",
    "        \n",
    "def decreaseIndent():\n",
    "    # Decrease the number of spaces:\n",
    "    global indent \n",
    "    indent = indent - 1\n",
    "    if indent == 0:\n",
    "        # Change direction\n",
    "        global indentIncreasing \n",
    "        indentIncreasing = True\n",
    "\n",
    "try:\n",
    "    while True:\n",
    "        print(' '* indent, end='')\n",
    "        print('********')\n",
    "        time.sleep(0.1) # pause for 1/10 of a second\n",
    "        \n",
    "        if indentIncreasing:\n",
    "            increaseIndent()\n",
    "        else:\n",
    "            decreaseIndent()\n",
    "\n",
    "except KeyboardInterrupt:\n",
    "    sys.exit()"
   ]
  },
  {
   "cell_type": "markdown",
   "metadata": {},
   "source": [
    "## Summary\n",
    "Functions are one of the most important tools at a programmer's disposal.  They are used to group code into logical groups that can be repeated as much as needed.  They are also versatile, as they can receive arguments, resulting in different return values or actions depending on the input provided.  This is a powerful feature that will allow for flexibility and complexity, while reducing the lines of code you will actually have to write.  \n",
    "\n",
    "Functions create their own scopes and, within those scopes, their own local variables.  These are distinct from global variables (found on the global scope) and can operate independently. This protects variables from being affected by code in different scopes and helps reduce the potential for bugs and errors.  \n",
    "\n",
    "When there is potentially error-prone code, you can use *try* and *except* statements to tell the program what to do when there is an error.  Otherwise, when the interpreter encounters an error it shuts the whole program down.  These statements help make your program more resilient.  "
   ]
  },
  {
   "cell_type": "markdown",
   "metadata": {},
   "source": [
    "## Practice Questions\n",
    "1. Why are functions advantageous to have in your programs?\n",
    "    - Functions are advantageous because they allow you to create blocks of reusable code.  This cuts down tremendously on repetition.  You can also pass data to a function and get some output in return, making functions usable in a variety of different scenarios.  \n",
    "    \n",
    "    \n",
    "2. When does the code in a function execute: when the function is defined or when the function is called?\n",
    "    - A function executes when it is called\n",
    "    \n",
    "    \n",
    "3. What statement creates a function?\n",
    "    - the *def* statement, which precedes the name of the function\n",
    "    \n",
    "\n",
    "4. What is the difference between a function and a function call?\n",
    "    - A function itself is a named block of code that may or may not have parameters and a return statement.  A function call is a line of code that includes the name of the function followed by closed parentheses that may or may not include arguments. \n",
    "\n",
    "5. How many global scopes are there in a Python program? How many local scopes?\n",
    "    - There is only one global scope in Python.  It is the highest level scope of a Python program.  There can be as many local scopes as you want.  They are encapsulating in functions.  \n",
    "\n",
    "\n",
    "6. What happens to variables in a local scope when the function call returns?\n",
    "    - Variables in a local scope are destroyed when the function call returns.  They exist only as long as the function.\n",
    "\n",
    "\n",
    "7. What is a return value? Can a return value be part of an expression?\n",
    "    - A return value is the value that a function evaluates to. A return value can be used in an expression since it evaluates down into one value. \n",
    "\n",
    "\n",
    "8. If a function does not have a return statement, what is the return value of a call to that function?\n",
    "    - If a function doesn't have an explicit return statement, the Python interpreter automatically assigns it a None return statement\n",
    "    \n",
    "\n",
    "9. How can you force a variable in a function to refer to the global variable?\n",
    "    - By adding the *global* keyword followed by the variable name.\n",
    "    \n",
    "    \n",
    "10. What is the data type of None?\n",
    "    - It is the only value of the NoneType data type\n",
    "\n",
    "\n",
    "11. What does the import areallyourpetsnamederic statement do?\n",
    "    - This statement brings a module named 'areallyourpetsnamederic' into your program and allows you to use its functionality.\n",
    "    \n",
    "\n",
    "12. If you had a function named bacon() in a module named spam, how would you call it after importing spam?\n",
    "    - by preceding the *bacon()* call with *spam.* like this: *spam.bacon()*\n",
    "    \n",
    "\n",
    "13. How can you prevent a program from crashing when it gets an error?\n",
    "    - To prevent a program from crashing due to an error, you can wrap the potentially error-prone code in a *try* statement.  Paired with an *except* statement, this allows you to decide how Python handles errors.\n",
    "    \n",
    "\n",
    "14. What goes in the try clause? What goes in the except clause?\n",
    "    - The error prone code goes in the *try* clause and the code that decides how to handle the error goes in the *except* clause.\n",
    "    \n",
    "    "
   ]
  },
  {
   "cell_type": "markdown",
   "metadata": {},
   "source": [
    "## Practice Project - The Collatz Sequence\n",
    "Write a function named collatz() that has one parameter named number. If number is even, then collatz() should print number // 2 and return this value. If number is odd, then collatz() should print and return 3 * number + 1.\n",
    "\n",
    "Then write a program that lets the user type in an integer and that keeps calling collatz() on that number until the function returns the value 1."
   ]
  },
  {
   "cell_type": "code",
   "execution_count": 8,
   "metadata": {},
   "outputs": [
    {
     "name": "stdout",
     "output_type": "stream",
     "text": [
      "Pick a number, any number\n",
      "3\n",
      "10\n",
      "5\n",
      "16\n",
      "8\n",
      "4\n",
      "2\n",
      "1\n"
     ]
    }
   ],
   "source": [
    "def collatz(number):\n",
    "    value = 0\n",
    "    if (number % 2 == 0):\n",
    "        value = number // 2\n",
    "    else:\n",
    "        value = 3 * number + 1\n",
    "    \n",
    "    print(value)\n",
    "    return value\n",
    "\n",
    "print('Pick a number, any number')\n",
    "inp = input()\n",
    "collatzVal = int(inp)\n",
    "\n",
    "while collatzVal != 1:\n",
    "    collatzVal = collatz(collatzVal)\n"
   ]
  },
  {
   "cell_type": "markdown",
   "metadata": {},
   "source": [
    "## Input Validation\n",
    "Add try and except statements to the previous project to detect whether the user types in a noninteger string."
   ]
  },
  {
   "cell_type": "code",
   "execution_count": 5,
   "metadata": {},
   "outputs": [
    {
     "name": "stdout",
     "output_type": "stream",
     "text": [
      "Pick an integer, any integer\n",
      "puppy\n",
      "I said pick an INTEGER\n",
      "PUPPY\n",
      "I said pick an INTEGER\n",
      "cat?\n",
      "I said pick an INTEGER\n",
      "fine.\n",
      "I said pick an INTEGER\n",
      "19\n",
      "58\n",
      "29\n",
      "88\n",
      "44\n",
      "22\n",
      "11\n",
      "34\n",
      "17\n",
      "52\n",
      "26\n",
      "13\n",
      "40\n",
      "20\n",
      "10\n",
      "5\n",
      "16\n",
      "8\n",
      "4\n",
      "2\n",
      "1\n"
     ]
    }
   ],
   "source": [
    "def collatz(number):\n",
    "    value = 0\n",
    "    if (number % 2 == 0):\n",
    "        value = number // 2\n",
    "    else:\n",
    "        value = 3 * number + 1\n",
    "    \n",
    "    print(value)\n",
    "    return value\n",
    "\n",
    "print('Pick an integer, any integer')\n",
    "def pickANumber():\n",
    "    inp = input()\n",
    "    try: \n",
    "        inp = int(inp)\n",
    "    except ValueError:\n",
    "        print('I said pick an INTEGER')\n",
    "        inp = pickANumber()\n",
    "    return inp\n",
    "\n",
    "collatzVal = pickANumber()\n",
    "\n",
    "while collatzVal != 1:\n",
    "    collatzVal = collatz(collatzVal)"
   ]
  },
  {
   "cell_type": "code",
   "execution_count": null,
   "metadata": {},
   "outputs": [],
   "source": []
  }
 ],
 "metadata": {
  "kernelspec": {
   "display_name": "Python 3",
   "language": "python",
   "name": "python3"
  },
  "language_info": {
   "codemirror_mode": {
    "name": "ipython",
    "version": 3
   },
   "file_extension": ".py",
   "mimetype": "text/x-python",
   "name": "python",
   "nbconvert_exporter": "python",
   "pygments_lexer": "ipython3",
   "version": "3.7.3"
  }
 },
 "nbformat": 4,
 "nbformat_minor": 2
}
