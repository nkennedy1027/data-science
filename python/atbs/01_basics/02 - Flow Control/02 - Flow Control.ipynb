{
 "cells": [
  {
   "cell_type": "markdown",
   "metadata": {},
   "source": [
    "# 2 Flow Control\n",
    "We've learned that a program is essentially a series of instructions for a computer.  But the world is more complex than that and we don't usually want the computer to follow the instructions one after another because we have to allow for variations depending on the context.  This is where **flow control statements** come in.  These statements help a program decide to skip or repeat or choose instructions to run.  \n",
    "\n",
    "## Boolean values\n",
    "One of the most important tools in the flow control toolbox is the Boolean value.  There are only two: **True** and **False** (in Python they are always capitalized).  "
   ]
  },
  {
   "cell_type": "code",
   "execution_count": 2,
   "metadata": {},
   "outputs": [
    {
     "data": {
      "text/plain": [
       "True"
      ]
     },
     "execution_count": 2,
     "metadata": {},
     "output_type": "execute_result"
    }
   ],
   "source": [
    "spam = True\n",
    "spam"
   ]
  },
  {
   "cell_type": "code",
   "execution_count": 3,
   "metadata": {},
   "outputs": [
    {
     "ename": "NameError",
     "evalue": "name 'true' is not defined",
     "output_type": "error",
     "traceback": [
      "\u001b[0;31m---------------------------------------------------------------------------\u001b[0m",
      "\u001b[0;31mNameError\u001b[0m                                 Traceback (most recent call last)",
      "\u001b[0;32m<ipython-input-3-724ba28f4a9a>\u001b[0m in \u001b[0;36m<module>\u001b[0;34m\u001b[0m\n\u001b[0;32m----> 1\u001b[0;31m \u001b[0mtrue\u001b[0m\u001b[0;34m\u001b[0m\u001b[0;34m\u001b[0m\u001b[0m\n\u001b[0m",
      "\u001b[0;31mNameError\u001b[0m: name 'true' is not defined"
     ]
    }
   ],
   "source": [
    "true"
   ]
  },
  {
   "cell_type": "code",
   "execution_count": 4,
   "metadata": {},
   "outputs": [
    {
     "ename": "SyntaxError",
     "evalue": "can't assign to keyword (<ipython-input-4-c9569069d938>, line 1)",
     "output_type": "error",
     "traceback": [
      "\u001b[0;36m  File \u001b[0;32m\"<ipython-input-4-c9569069d938>\"\u001b[0;36m, line \u001b[0;32m1\u001b[0m\n\u001b[0;31m    True = 2 + 2\u001b[0m\n\u001b[0m                ^\u001b[0m\n\u001b[0;31mSyntaxError\u001b[0m\u001b[0;31m:\u001b[0m can't assign to keyword\n"
     ]
    }
   ],
   "source": [
    "True = 2 + 2"
   ]
  },
  {
   "cell_type": "markdown",
   "metadata": {},
   "source": [
    "## Comparison Operators\n",
    "**Comparison** (or relational) **operators** compare two values and evaluate down to a single Boolean value:\n",
    "* Equal to: ==\n",
    "* Not equal to: !=\n",
    "* Less than: <\n",
    "* Greater than: > \n",
    "* Less than or equal to: <=\n",
    "* Greater than or equal to: >=\n",
    "\n",
    "The equality and inequality operators work with any of the data types we've learned so far:"
   ]
  },
  {
   "cell_type": "code",
   "execution_count": 5,
   "metadata": {},
   "outputs": [
    {
     "data": {
      "text/plain": [
       "True"
      ]
     },
     "execution_count": 5,
     "metadata": {},
     "output_type": "execute_result"
    }
   ],
   "source": [
    "42 == 42"
   ]
  },
  {
   "cell_type": "code",
   "execution_count": 6,
   "metadata": {},
   "outputs": [
    {
     "data": {
      "text/plain": [
       "False"
      ]
     },
     "execution_count": 6,
     "metadata": {},
     "output_type": "execute_result"
    }
   ],
   "source": [
    "42 == 99"
   ]
  },
  {
   "cell_type": "code",
   "execution_count": 7,
   "metadata": {},
   "outputs": [
    {
     "data": {
      "text/plain": [
       "True"
      ]
     },
     "execution_count": 7,
     "metadata": {},
     "output_type": "execute_result"
    }
   ],
   "source": [
    "2 != 3"
   ]
  },
  {
   "cell_type": "code",
   "execution_count": 8,
   "metadata": {},
   "outputs": [
    {
     "data": {
      "text/plain": [
       "False"
      ]
     },
     "execution_count": 8,
     "metadata": {},
     "output_type": "execute_result"
    }
   ],
   "source": [
    "2 != 2"
   ]
  },
  {
   "cell_type": "code",
   "execution_count": 9,
   "metadata": {},
   "outputs": [
    {
     "data": {
      "text/plain": [
       "True"
      ]
     },
     "execution_count": 9,
     "metadata": {},
     "output_type": "execute_result"
    }
   ],
   "source": [
    "'hello' == 'hello'"
   ]
  },
  {
   "cell_type": "code",
   "execution_count": 10,
   "metadata": {},
   "outputs": [
    {
     "data": {
      "text/plain": [
       "False"
      ]
     },
     "execution_count": 10,
     "metadata": {},
     "output_type": "execute_result"
    }
   ],
   "source": [
    "'hello' == 'Hello'"
   ]
  },
  {
   "cell_type": "code",
   "execution_count": 11,
   "metadata": {},
   "outputs": [
    {
     "data": {
      "text/plain": [
       "True"
      ]
     },
     "execution_count": 11,
     "metadata": {},
     "output_type": "execute_result"
    }
   ],
   "source": [
    "'dog' != 'cat'"
   ]
  },
  {
   "cell_type": "code",
   "execution_count": 12,
   "metadata": {},
   "outputs": [
    {
     "data": {
      "text/plain": [
       "True"
      ]
     },
     "execution_count": 12,
     "metadata": {},
     "output_type": "execute_result"
    }
   ],
   "source": [
    "True == True"
   ]
  },
  {
   "cell_type": "code",
   "execution_count": 13,
   "metadata": {},
   "outputs": [
    {
     "data": {
      "text/plain": [
       "True"
      ]
     },
     "execution_count": 13,
     "metadata": {},
     "output_type": "execute_result"
    }
   ],
   "source": [
    "True != False"
   ]
  },
  {
   "cell_type": "code",
   "execution_count": 14,
   "metadata": {},
   "outputs": [
    {
     "data": {
      "text/plain": [
       "True"
      ]
     },
     "execution_count": 14,
     "metadata": {},
     "output_type": "execute_result"
    }
   ],
   "source": [
    "42 == 42.0"
   ]
  },
  {
   "cell_type": "code",
   "execution_count": 15,
   "metadata": {},
   "outputs": [
    {
     "data": {
      "text/plain": [
       "False"
      ]
     },
     "execution_count": 15,
     "metadata": {},
     "output_type": "execute_result"
    }
   ],
   "source": [
    "42 == '42'"
   ]
  },
  {
   "cell_type": "markdown",
   "metadata": {},
   "source": [
    "*As you can see, integers (and floats) are not equal to strings, even if they 'represent' the same number.  \n",
    "\n",
    "The <, >, <=, >= operators, though, only work with numeric values (ie integer and float): "
   ]
  },
  {
   "cell_type": "code",
   "execution_count": 16,
   "metadata": {},
   "outputs": [
    {
     "data": {
      "text/plain": [
       "True"
      ]
     },
     "execution_count": 16,
     "metadata": {},
     "output_type": "execute_result"
    }
   ],
   "source": [
    "42 < 100"
   ]
  },
  {
   "cell_type": "code",
   "execution_count": 17,
   "metadata": {},
   "outputs": [
    {
     "data": {
      "text/plain": [
       "False"
      ]
     },
     "execution_count": 17,
     "metadata": {},
     "output_type": "execute_result"
    }
   ],
   "source": [
    "42 > 100"
   ]
  },
  {
   "cell_type": "code",
   "execution_count": 18,
   "metadata": {},
   "outputs": [
    {
     "data": {
      "text/plain": [
       "False"
      ]
     },
     "execution_count": 18,
     "metadata": {},
     "output_type": "execute_result"
    }
   ],
   "source": [
    "42 < 42"
   ]
  },
  {
   "cell_type": "code",
   "execution_count": 19,
   "metadata": {},
   "outputs": [
    {
     "data": {
      "text/plain": [
       "True"
      ]
     },
     "execution_count": 19,
     "metadata": {},
     "output_type": "execute_result"
    }
   ],
   "source": [
    "eggCount = 42\n",
    "eggCount <= 42"
   ]
  },
  {
   "cell_type": "code",
   "execution_count": 21,
   "metadata": {},
   "outputs": [
    {
     "data": {
      "text/plain": [
       "True"
      ]
     },
     "execution_count": 21,
     "metadata": {},
     "output_type": "execute_result"
    }
   ],
   "source": [
    "myAge = 29\n",
    "myAge >= 10"
   ]
  },
  {
   "cell_type": "code",
   "execution_count": 22,
   "metadata": {},
   "outputs": [
    {
     "ename": "TypeError",
     "evalue": "'>' not supported between instances of 'int' and 'str'",
     "output_type": "error",
     "traceback": [
      "\u001b[0;31m---------------------------------------------------------------------------\u001b[0m",
      "\u001b[0;31mTypeError\u001b[0m                                 Traceback (most recent call last)",
      "\u001b[0;32m<ipython-input-22-06d88f64e747>\u001b[0m in \u001b[0;36m<module>\u001b[0;34m\u001b[0m\n\u001b[0;32m----> 1\u001b[0;31m \u001b[0;36m42\u001b[0m \u001b[0;34m>\u001b[0m \u001b[0;34m'hello'\u001b[0m\u001b[0;34m\u001b[0m\u001b[0;34m\u001b[0m\u001b[0m\n\u001b[0m",
      "\u001b[0;31mTypeError\u001b[0m: '>' not supported between instances of 'int' and 'str'"
     ]
    }
   ],
   "source": [
    "42 > 'hello'"
   ]
  },
  {
   "cell_type": "markdown",
   "metadata": {},
   "source": [
    "## Boolean Operators\n",
    "There are three Boolean operators: **and**, **or**, and **not**. They are used to compare Boolean values, and are evaluated down to a single Boolean value.\n",
    "\n",
    "### Binary Boolean Operators\n",
    "The **and** and **or** operators always take two values and are therefore considered binary operators.  \n",
    "* **and** compares two values and evaluates to true if both values are true, otherwise it evaluates to false.\n",
    "* **or** compares two values and evaluates to true if only *one* of the values is true, otherwise it evaluates to false.\n",
    "\n",
    "### The *not* Operator\n",
    "The **not** operator is only ever used with one value or expression and is therefore considered a *unary* operator.  When placed before a value or expression, it will evalute it down to its opposite Boolean value"
   ]
  },
  {
   "cell_type": "code",
   "execution_count": 23,
   "metadata": {},
   "outputs": [
    {
     "data": {
      "text/plain": [
       "False"
      ]
     },
     "execution_count": 23,
     "metadata": {},
     "output_type": "execute_result"
    }
   ],
   "source": [
    "not True"
   ]
  },
  {
   "cell_type": "code",
   "execution_count": 24,
   "metadata": {},
   "outputs": [
    {
     "data": {
      "text/plain": [
       "True"
      ]
     },
     "execution_count": 24,
     "metadata": {},
     "output_type": "execute_result"
    }
   ],
   "source": [
    "not not not not True"
   ]
  },
  {
   "cell_type": "markdown",
   "metadata": {},
   "source": [
    "## Mixing Boolean and Comparison Operators\n",
    "Because comparison operators evaluate down to a boolean value, they can be used with boolean operators.  Using an expression such as 4 < 5 on either side of a binary operator is perfectly acceptable:"
   ]
  },
  {
   "cell_type": "code",
   "execution_count": 25,
   "metadata": {},
   "outputs": [
    {
     "data": {
      "text/plain": [
       "True"
      ]
     },
     "execution_count": 25,
     "metadata": {},
     "output_type": "execute_result"
    }
   ],
   "source": [
    "(4 < 5) and (5 < 6)"
   ]
  },
  {
   "cell_type": "code",
   "execution_count": 26,
   "metadata": {},
   "outputs": [
    {
     "data": {
      "text/plain": [
       "False"
      ]
     },
     "execution_count": 26,
     "metadata": {},
     "output_type": "execute_result"
    }
   ],
   "source": [
    "(4 < 5) and (9 < 6)"
   ]
  },
  {
   "cell_type": "code",
   "execution_count": 27,
   "metadata": {},
   "outputs": [
    {
     "data": {
      "text/plain": [
       "True"
      ]
     },
     "execution_count": 27,
     "metadata": {},
     "output_type": "execute_result"
    }
   ],
   "source": [
    "(1 == 2) or (2 == 2)"
   ]
  },
  {
   "cell_type": "markdown",
   "metadata": {},
   "source": [
    "As you might expect, the computer will evaluate the expressions from left to right, converting them to Booleans, before converting the whole binary expression down to one Boolean value.  It's also possible to use multiple Boolean operators in an expression along with comparison operators:"
   ]
  },
  {
   "cell_type": "code",
   "execution_count": 28,
   "metadata": {},
   "outputs": [
    {
     "data": {
      "text/plain": [
       "True"
      ]
     },
     "execution_count": 28,
     "metadata": {},
     "output_type": "execute_result"
    }
   ],
   "source": [
    "2 + 2 == 4 and not 2 + 2 == 5 and 2 * 2 == 2 + 2"
   ]
  },
  {
   "cell_type": "markdown",
   "metadata": {},
   "source": [
    "Python's order of operations for a statement like the above is as follows: \n",
    "1. math and comparison operators\n",
    "2. not operators\n",
    "3. and operators \n",
    "4. or operators"
   ]
  },
  {
   "cell_type": "markdown",
   "metadata": {},
   "source": [
    "## Elements of Flow Control\n",
    "Flow control statements are generally comprised of **conditions** and **clauses** or blocks of code. \n",
    "\n",
    "### Conditions\n",
    "**Conditions** are just expressions used in the context of a flow control statement that always evaluate down to a Boolean.  Conditions are what tell the control statement what to do, based on whether the condition is True or False.\n",
    "\n",
    "### Blocks of Code\n",
    "Blocks are essentially lines of code that are grouped together.  In Python they are delineated by their level of indentation and follow a few rules: \n",
    "* Blocks begin when the indentation increases\n",
    "* Blocks can contain other blocks\n",
    "* Blocks end when the indentation decreases to zero or to a containing block's indentation\n",
    "\n",
    "The following example has 3 blocks:"
   ]
  },
  {
   "cell_type": "code",
   "execution_count": 29,
   "metadata": {},
   "outputs": [
    {
     "name": "stdout",
     "output_type": "stream",
     "text": [
      "Hello, Mary\n",
      "Access granted.\n"
     ]
    }
   ],
   "source": [
    "name = 'Mary'\n",
    "password = 'swordfish'\n",
    "if name == 'Mary':\n",
    "    print('Hello, Mary')\n",
    "    if password == 'swordfish':\n",
    "        print('Access granted.')\n",
    "    else:\n",
    "        print('Wrong password.')"
   ]
  },
  {
   "cell_type": "markdown",
   "metadata": {},
   "source": [
    "The three blocks begin with the following statements\n",
    "1. print('Hello, Mary')\n",
    "2. print('Access granted.')\n",
    "3. print('Wrong password.')\n",
    "\n",
    "As you can see, these lines are where indentation is increased."
   ]
  },
  {
   "cell_type": "markdown",
   "metadata": {},
   "source": [
    "## Program Execution\n",
    "**Program execution** (or just execution) is the current instruction being executed.  Flow control statements cause program execution to jump around and repeat and skip whole blocks of code depending on the program. \n",
    "\n",
    "## Flow Control Statements\n",
    "\n",
    "### *if* Statements\n",
    "The *if* statement is the most common flow control statement.  It takes one condition, and if true, its clause is executed, otherwise it is skipped. The whole statement consists of the following: \n",
    "1. The if keyword\n",
    "2. A condition (that is, an expression that evaluates to True or False)\n",
    "3. A colon\n",
    "4. Starting on the next line, an indented block of code (called the if clause)\n",
    "\n",
    "### *else* Statements\n",
    "An *else* statement optionally follows an *if* statement and executes only if the *if* statement's condition evaluates to false. The whole statement consists of the following: \n",
    "1. The else keyword\n",
    "2. A colon\n",
    "3. Starting on the next line, an indented block of code (called the else clause)\n",
    "\n",
    "### *elif* Statements\n",
    "The *elif* statement provides an intermediate alternative to the *if* and *else* statements.  That is, it provides the opportunity to evaluate more conditions following the original *if* statement but before the *else* statement.  There can be as many *elif* statements as you want but they must always follow an *if* statement or another *elif* statement.  They are essentially the same as *if* statements and will only execute if their conditin is true, otherwise they'll be skipped.  The whole statement consists of the following: \n",
    "1. The elif keyword\n",
    "2. A condition (that is, an expression that evaluates to True or False)\n",
    "3. A colon\n",
    "4. Starting on the next line, an indented block of code (called the elif clause)\n",
    "\n",
    "### *while* Loop Statements\n",
    "There are two types of loop statements in Python.  The first, for whatever reason, is the *while* loop statement.  A *while* loop takes a condition and will execute its clause over and over again until the condition evaluates to False.  There is an important implication here.  The condition must change to False at some point or else you will find yourself with an infinite loop.  Therefore while loops can be dangerous.  The whole statement consists of the following: \n",
    "1. The while keyword\n",
    "2. A condition (that is, an expression that evaluates to True or False)\n",
    "3. A colon\n",
    "4. Starting on the next line, an indented block of code (called the while clause)"
   ]
  },
  {
   "cell_type": "code",
   "execution_count": 30,
   "metadata": {},
   "outputs": [
    {
     "name": "stdout",
     "output_type": "stream",
     "text": [
      "Hello, world.\n",
      "Hello, world.\n",
      "Hello, world.\n",
      "Hello, world.\n",
      "Hello, world.\n"
     ]
    }
   ],
   "source": [
    "spam = 0\n",
    "while spam < 5:\n",
    "    print('Hello, world.')\n",
    "    spam = spam + 1"
   ]
  },
  {
   "cell_type": "markdown",
   "metadata": {},
   "source": [
    "### *break*  Statements\n",
    "A *break* statement can be used to exit a *while* loop which immediately stop its execution.  "
   ]
  },
  {
   "cell_type": "code",
   "execution_count": 32,
   "metadata": {},
   "outputs": [
    {
     "name": "stdout",
     "output_type": "stream",
     "text": [
      "Please type your name.\n",
      "Nathan\n",
      "Please type your name.\n",
      "your name\n",
      "Thank you\n"
     ]
    }
   ],
   "source": [
    "while True:\n",
    "    print('Please type your name.')\n",
    "    name = input()\n",
    "    if name == 'your name':\n",
    "        break\n",
    "print('Thank you')"
   ]
  },
  {
   "cell_type": "markdown",
   "metadata": {},
   "source": [
    "This example created an infinite loop by setting the loop's condition to True.  But we were able to get out of it by adding the *if* statement to check if we were entering 'your name' and then executing a *break* statement.\n",
    "\n",
    "### *continue* Statements\n",
    "A *continue* statement is also used in loops but instead of exiting the loop completely, it simply exits the current iteration of the loop and starts a new one, skipping any statements after the *continue* statement."
   ]
  },
  {
   "cell_type": "code",
   "execution_count": 34,
   "metadata": {},
   "outputs": [
    {
     "name": "stdout",
     "output_type": "stream",
     "text": [
      "Who are you?\n",
      "Nate\n",
      "Who are you?\n",
      "Joe\n",
      "Hello, Joe. What is the password? (It is a fish)\n",
      "jelly fish\n",
      "Who are you?\n",
      "Joe\n",
      "Hello, Joe. What is the password? (It is a fish)\n",
      "swordfish\n",
      "Access granted.\n"
     ]
    }
   ],
   "source": [
    "while True:\n",
    "    print('Who are you?')\n",
    "    name = input()\n",
    "    if name != 'Joe':\n",
    "        continue\n",
    "    print('Hello, Joe. What is the password? (It is a fish)')\n",
    "    password = input()\n",
    "    if password == 'swordfish':\n",
    "        break\n",
    "print('Access granted.')"
   ]
  },
  {
   "cell_type": "markdown",
   "metadata": {},
   "source": [
    "In this example, if the user does not enter Joe as their name, the loop simply restarts.  "
   ]
  },
  {
   "cell_type": "markdown",
   "metadata": {},
   "source": [
    "### Interlude: Truthy and Falsey Values\n",
    "Values from non-Boolean data types can evaluate to Booleans when used in condition statements.  For example, 0, 0.0, and '' (empty string) all evaluate to False when used in conditions.  Any other number or string will evaluate to True."
   ]
  },
  {
   "cell_type": "markdown",
   "metadata": {},
   "source": [
    "### *for* Loops and the *range()* Function\n",
    "A *for* loop can be combined with the *range()* function to execute a block of code a specified number of times.  The whole statement consists of the following:\n",
    "\n",
    "1. The for keyword\n",
    "2. A variable name\n",
    "3. The in keyword\n",
    "4. A call to the range() method with up to three integers passed to it\n",
    "5. A colon\n",
    "6. Starting on the next line, an indented block of code (called the for clause)\n"
   ]
  },
  {
   "cell_type": "code",
   "execution_count": 1,
   "metadata": {},
   "outputs": [
    {
     "name": "stdout",
     "output_type": "stream",
     "text": [
      "My name is\n",
      "Jimmy Five Times (0)\n",
      "Jimmy Five Times (1)\n",
      "Jimmy Five Times (2)\n",
      "Jimmy Five Times (3)\n",
      "Jimmy Five Times (4)\n"
     ]
    }
   ],
   "source": [
    "print('My name is')\n",
    "for i in range(5):\n",
    "    print('Jimmy Five Times (' + str(i) +')')"
   ]
  },
  {
   "cell_type": "markdown",
   "metadata": {},
   "source": [
    "##### NOTE: \n",
    "You can use *break* and *continue* statements inside *for* loops as well.  They will behave the same as they would in a *while* loop.  It's also important to note that they cannot be used anywhere else."
   ]
  },
  {
   "cell_type": "markdown",
   "metadata": {},
   "source": [
    "## The Starting, Stopping, and Stepping Arguments to range()\n",
    "The *range()* function can take more than one argument.  If you provide two arguments, the first number will be the start of the range and the second will be the non-inclusive end of the range"
   ]
  },
  {
   "cell_type": "code",
   "execution_count": 11,
   "metadata": {},
   "outputs": [
    {
     "name": "stdout",
     "output_type": "stream",
     "text": [
      "12\n",
      "13\n",
      "14\n",
      "15\n"
     ]
    }
   ],
   "source": [
    "for i in range(12,16):\n",
    "    print(i)"
   ]
  },
  {
   "cell_type": "markdown",
   "metadata": {},
   "source": [
    "You can also add a third argument to the end of this sequence, which will define the amount that the variable is increased after each iteration (step value).  "
   ]
  },
  {
   "cell_type": "code",
   "execution_count": 3,
   "metadata": {},
   "outputs": [
    {
     "name": "stdout",
     "output_type": "stream",
     "text": [
      "0\n",
      "2\n",
      "4\n",
      "6\n",
      "8\n"
     ]
    }
   ],
   "source": [
    "for i in range(0,10,2):\n",
    "    print(i)"
   ]
  },
  {
   "cell_type": "markdown",
   "metadata": {},
   "source": [
    "The *range()* function doesn't have to count up.  If you provide a negative number for the step argument, it will reverse the count."
   ]
  },
  {
   "cell_type": "code",
   "execution_count": 5,
   "metadata": {},
   "outputs": [
    {
     "name": "stdout",
     "output_type": "stream",
     "text": [
      "5\n",
      "4\n",
      "3\n",
      "2\n",
      "1\n",
      "0\n"
     ]
    }
   ],
   "source": [
    "for i in range(5, -1, -1):\n",
    "    print(i)"
   ]
  },
  {
   "cell_type": "markdown",
   "metadata": {},
   "source": [
    "## Importing Modules\n",
    "Beyond the in-built functions we've learned so far (print(), input(), len()), Python also has a set of modules called the *standard library*.  Each of these modules contains a related group of functions that you can use in your programs.  To access these modules, you first have to bring them into your program using the import statement, which consists of the following: \n",
    "1. The import keyword\n",
    "2. The name of the module\n",
    "3. Optionally, more module names, as long as they are separated by commas\n",
    "\n",
    "##### Important note! Don't overwrite module names\n",
    "When saving Python files, it is important to give them names that aren't shared with standard Python modules or built-in functions.  This will lead to errors in your code because it will import your file instead of the module you actually want to use"
   ]
  },
  {
   "cell_type": "code",
   "execution_count": 13,
   "metadata": {},
   "outputs": [
    {
     "name": "stdout",
     "output_type": "stream",
     "text": [
      "4\n",
      "7\n",
      "4\n",
      "5\n",
      "5\n"
     ]
    }
   ],
   "source": [
    "import random\n",
    "for i in range(5):\n",
    "    print(random.randint(1,10))"
   ]
  },
  {
   "cell_type": "markdown",
   "metadata": {},
   "source": [
    "Something important to note about this is example, is that you have to use the module name to access its functions.  That's why *random.* comes before *randint()*.  In the future I believe we will shorten module names using variables.  \n",
    "\n",
    "To import several modules you can do the following"
   ]
  },
  {
   "cell_type": "code",
   "execution_count": 14,
   "metadata": {},
   "outputs": [],
   "source": [
    "import random, sys, os, math"
   ]
  },
  {
   "cell_type": "markdown",
   "metadata": {},
   "source": [
    "### *from import* Statements\n",
    "To completely avoid using the module name when calling its functions, you can use the *from import* statement which looks like this:"
   ]
  },
  {
   "cell_type": "code",
   "execution_count": 15,
   "metadata": {},
   "outputs": [],
   "source": [
    "from random import *"
   ]
  },
  {
   "cell_type": "markdown",
   "metadata": {},
   "source": [
    "Using the example above, we can now call *randint()* on its own.\n",
    "\n",
    "## Ending a Program Early with the *sys.exit()* Funciton\n",
    "Generally, programs will exit when they reach the end of the file.  If you want to interupt this and exit sooner you can use the *sys.exit()* function.  This function must be imported from the *sys* module (as you might have guessed) and can be used as follows:"
   ]
  },
  {
   "cell_type": "code",
   "execution_count": 16,
   "metadata": {},
   "outputs": [
    {
     "name": "stdout",
     "output_type": "stream",
     "text": [
      "Type exit to exit\n",
      "no\n",
      "You typed no.\n",
      "Type exit to exit\n",
      "i dont want to\n",
      "You typed i dont want to.\n",
      "Type exit to exit\n",
      "ok fine\n",
      "You typed ok fine.\n",
      "Type exit to exit\n",
      "exit\n"
     ]
    },
    {
     "ename": "SystemExit",
     "evalue": "",
     "output_type": "error",
     "traceback": [
      "An exception has occurred, use %tb to see the full traceback.\n",
      "\u001b[0;31mSystemExit\u001b[0m\n"
     ]
    },
    {
     "name": "stderr",
     "output_type": "stream",
     "text": [
      "/anaconda3/lib/python3.7/site-packages/IPython/core/interactiveshell.py:3304: UserWarning: To exit: use 'exit', 'quit', or Ctrl-D.\n",
      "  warn(\"To exit: use 'exit', 'quit', or Ctrl-D.\", stacklevel=1)\n"
     ]
    }
   ],
   "source": [
    "import sys\n",
    "\n",
    "while True:\n",
    "    print('Type exit to exit')\n",
    "    response = input()\n",
    "    if response == 'exit':\n",
    "        sys.exit()\n",
    "    print('You typed ' + response + '.')"
   ]
  },
  {
   "cell_type": "markdown",
   "metadata": {},
   "source": [
    "(Maybe jupyter doesn't like *sys.exit()...)\n",
    "\n",
    "\n",
    "## A short program: Guess the number"
   ]
  },
  {
   "cell_type": "code",
   "execution_count": 1,
   "metadata": {},
   "outputs": [
    {
     "name": "stdout",
     "output_type": "stream",
     "text": [
      "I am thinking of a number between 1 and 20\n",
      "Take a guess.\n",
      "3\n",
      "Your guess is too low\n",
      "Take a guess.\n",
      "9\n",
      "Your guess is too high\n",
      "Take a guess.\n",
      "6\n",
      "Your guess is too low\n",
      "Take a guess.\n",
      "8\n",
      "Your guess is too high\n",
      "Take a guess.\n",
      "7\n",
      "Good job! You guessed my number in 5 guesses!\n"
     ]
    }
   ],
   "source": [
    "# This is a guess the number game\n",
    "import random\n",
    "secretNumber = random.randint(1,20)\n",
    "print('I am thinking of a number between 1 and 20')\n",
    "\n",
    "# Ask the player to guess 6 times.\n",
    "for guessesTaken in range(1,7):\n",
    "    print('Take a guess.')\n",
    "    guess = int(input())\n",
    "    \n",
    "    if guess < secretNumber:\n",
    "        print('Your guess is too low')\n",
    "    elif guess > secretNumber:\n",
    "        print('Your guess is too high')\n",
    "    else:\n",
    "        break # This condition is the correct guess!\n",
    "\n",
    "if guess == secretNumber:\n",
    "    print('Good job! You guessed my number in ' + str(guessesTaken) + ' guesses!')\n",
    "else: \n",
    "    print('Nope. The number I was thinking of was ' + str(secretNumber))"
   ]
  },
  {
   "cell_type": "markdown",
   "metadata": {},
   "source": [
    "## Another short program: Rock, Paper, Scissors"
   ]
  },
  {
   "cell_type": "code",
   "execution_count": 2,
   "metadata": {},
   "outputs": [
    {
     "name": "stdout",
     "output_type": "stream",
     "text": [
      "ROCK, PAPER, SCISSORS\n",
      "0 Wins, 0 Losses, 0 Ties\n",
      "Enter your move: (r)ock (p)aper (s)cissors or (q)uit\n",
      "s\n",
      "SCISSORS versus...\n",
      "ROCK\n",
      "You lose!\n",
      "0 Wins, 1 Losses, 0 Ties\n",
      "Enter your move: (r)ock (p)aper (s)cissors or (q)uit\n",
      "p\n",
      "PAPER versus...\n",
      "PAPER\n",
      "It is a tie!\n",
      "0 Wins, 1 Losses, 1 Ties\n",
      "Enter your move: (r)ock (p)aper (s)cissors or (q)uit\n",
      "p\n",
      "PAPER versus...\n",
      "PAPER\n",
      "It is a tie!\n",
      "0 Wins, 1 Losses, 2 Ties\n",
      "Enter your move: (r)ock (p)aper (s)cissors or (q)uit\n",
      "q\n"
     ]
    },
    {
     "ename": "SystemExit",
     "evalue": "",
     "output_type": "error",
     "traceback": [
      "An exception has occurred, use %tb to see the full traceback.\n",
      "\u001b[0;31mSystemExit\u001b[0m\n"
     ]
    },
    {
     "name": "stderr",
     "output_type": "stream",
     "text": [
      "/anaconda3/lib/python3.7/site-packages/IPython/core/interactiveshell.py:3304: UserWarning: To exit: use 'exit', 'quit', or Ctrl-D.\n",
      "  warn(\"To exit: use 'exit', 'quit', or Ctrl-D.\", stacklevel=1)\n"
     ]
    }
   ],
   "source": [
    "import random, sys\n",
    "\n",
    "print('ROCK, PAPER, SCISSORS')\n",
    "\n",
    "# These variables keep track of the number of wins, losses, and ties.\n",
    "wins = 0\n",
    "losses = 0\n",
    "ties = 0\n",
    "\n",
    "while True: # The main game loop.\n",
    "    print('%s Wins, %s Losses, %s Ties' % (wins, losses, ties))\n",
    "    while True: # The player input loop.\n",
    "        print('Enter your move: (r)ock (p)aper (s)cissors or (q)uit')\n",
    "        playerMove = input()\n",
    "        if playerMove == 'q':\n",
    "            sys.exit() # Quit the program.\n",
    "        if playerMove == 'r' or playerMove == 'p' or playerMove == 's':\n",
    "            break # Break out of the player input loop.\n",
    "        print('Type one of r, p, s, or q.')\n",
    "\n",
    "    # Display what the player chose:\n",
    "    if playerMove == 'r':\n",
    "        print('ROCK versus...')\n",
    "    elif playerMove == 'p':\n",
    "        print('PAPER versus...')\n",
    "    elif playerMove == 's':\n",
    "        print('SCISSORS versus...')\n",
    "\n",
    "    # Display what the computer chose:\n",
    "    randomNumber = random.randint(1, 3)\n",
    "    if randomNumber == 1:\n",
    "        computerMove = 'r'\n",
    "        print('ROCK')\n",
    "    elif randomNumber == 2:\n",
    "        computerMove = 'p'\n",
    "        print('PAPER')\n",
    "    elif randomNumber == 3:\n",
    "        computerMove = 's'\n",
    "        print('SCISSORS')\n",
    "\n",
    "    # Display and record the win/loss/tie:\n",
    "    if playerMove == computerMove:\n",
    "        print('It is a tie!')\n",
    "        ties = ties + 1\n",
    "    elif playerMove == 'r' and computerMove == 's':\n",
    "        print('You win!')\n",
    "        wins = wins + 1\n",
    "    elif playerMove == 'p' and computerMove == 'r':\n",
    "        print('You win!')\n",
    "        wins = wins + 1\n",
    "    elif playerMove == 's' and computerMove == 'p':\n",
    "        print('You win!')\n",
    "        wins = wins + 1\n",
    "    elif playerMove == 'r' and computerMove == 'p':\n",
    "        print('You lose!')\n",
    "        losses = losses + 1\n",
    "    elif playerMove == 'p' and computerMove == 's':\n",
    "        print('You lose!')\n",
    "        losses = losses + 1\n",
    "    elif playerMove == 's' and computerMove == 'r':\n",
    "        print('You lose!')\n",
    "        losses = losses + 1"
   ]
  },
  {
   "cell_type": "markdown",
   "metadata": {},
   "source": [
    "## Summary\n",
    "Flow control statements are the backbone of programming.  They allow a program to choose the appropriate code to run (using conditions that evaluate to Booleans), to repeat code (using loop statements) and to skip code (using break and continue statements).  "
   ]
  },
  {
   "cell_type": "markdown",
   "metadata": {},
   "source": [
    "## Practice Questions\n",
    "\n",
    "1. What are the two values of the Boolean data type? How do you write them\n",
    "    - True and False.  They must be capitalized.\n",
    "\n",
    "\n",
    "\n",
    "2. What are the three Boolean operators?\n",
    "    - *and*, *or*, and *not*\n",
    "    \n",
    "\n",
    "\n",
    "3. Write out the true tables of each boolean operator (that is, every possible combination of Boolean values for the operator and what they evaluate to)\n",
    "    - *and* operator\n",
    "        - True and True --> True\n",
    "        - True and False --> False\n",
    "        - False and True --> False\n",
    "        - False and False --> False\n",
    "    - *or* operator\n",
    "        - True or True --> True\n",
    "        - True or False --> True\n",
    "        - False or True --> True\n",
    "        - False or False --> False\n",
    "    - *not* operator\n",
    "        - not True --> False\n",
    "        - not False --> True\n",
    "        - not not True --> True\n",
    "        - not not not True --> False\n",
    "        - etc\n",
    "       \n",
    "\n",
    "\n",
    "4. What do the following expressions evaluate to?\n",
    "    - (5 > 4) and (3 == 5) --> False\n",
    "    - not (5 > 4) --> False\n",
    "    - (5 > 4) or (3 == 5) --> True\n",
    "    - not ((5 > 4) or (3 == 5)) --> False \n",
    "    - (True and True) and (True == False) --> False\n",
    "    - (not False) or (not True) --> True\n",
    "    \n",
    "\n",
    "\n",
    "5. What are the six comparison operators?\n",
    "    - ==, !=, >, <, >=, <=\n",
    "    \n",
    "\n",
    "\n",
    "6. What is the difference between the equal operator and the assignment operator?\n",
    "    - The equal operator is a comparison operator used in a condition or expression that checks for the equality of two values and evaluates to a Boolean.  The assignment operator assigns a value to a variable.\n",
    "    \n",
    "\n",
    "\n",
    "7. Explain what a condition is and where you would use one\n",
    "     - A condition is an expression that evaluates to a Boolean.  They are used in flow control statements such as *if*, *elif*, and *while* loop statements.\n",
    "     \n",
    "\n",
    "\n",
    "8. Identify the three blocks in this code:"
   ]
  },
  {
   "cell_type": "code",
   "execution_count": 3,
   "metadata": {},
   "outputs": [
    {
     "name": "stdout",
     "output_type": "stream",
     "text": [
      "spam\n"
     ]
    }
   ],
   "source": [
    "spam = 0\n",
    "if spam == 10:\n",
    "    print('eggs') # start block 1\n",
    "    if spam > 5:\n",
    "        print('bacon') # block 2\n",
    "    else:\n",
    "        print('ham') # block 3\n",
    "    print('spam') # end block 1\n",
    "print('spam')"
   ]
  },
  {
   "cell_type": "markdown",
   "metadata": {},
   "source": [
    "9. Write code that prints Hello if 1 is stored in spam, prints Howdy if 2 is stored in spam, and prints Greetings! if anything else is stored in spam."
   ]
  },
  {
   "cell_type": "code",
   "execution_count": 4,
   "metadata": {},
   "outputs": [
    {
     "name": "stdout",
     "output_type": "stream",
     "text": [
      "Howdy\n"
     ]
    }
   ],
   "source": [
    "spam = 2\n",
    "if spam == 1:\n",
    "    print('Hello')\n",
    "elif spam == 2:\n",
    "    print('Howdy')\n",
    "else:\n",
    "    print('Greetings!')"
   ]
  },
  {
   "cell_type": "markdown",
   "metadata": {},
   "source": [
    "10. What keys can you press if you are trapped in an infinite loop?\n",
    "     - CTRL-C\n",
    "\n",
    "\n",
    "11. What is the difference between *break* and *continue*?\n",
    "     - *break* exits the loop completely and *continue* just exits the current iteration and starts the next one.\n",
    "\n",
    "\n",
    "12. What is the difference between range(10), range(0,10), and range(0,10,1) in a *for* loop?\n",
    "    - Each of these will print each number 0 through 9.  However they are subtly different.  The first simply provides the non-inclusive end of the ranage and defaults to starting at zero.  The second version explicitly states the starting point, which happens to be zero.  The third version explicitly states the step value, in this case 1, which is the default step value. \n",
    "\n",
    "\n",
    "13. Write a short program that prints the numbers 1 to 10 using a *for* loop.  Then write an equivalent program using a *while* loop.\n",
    "    "
   ]
  },
  {
   "cell_type": "code",
   "execution_count": 5,
   "metadata": {},
   "outputs": [
    {
     "name": "stdout",
     "output_type": "stream",
     "text": [
      "for loop\n",
      "1\n",
      "2\n",
      "3\n",
      "4\n",
      "5\n",
      "6\n",
      "7\n",
      "8\n",
      "9\n",
      "10\n",
      "\n",
      "while loop\n",
      "1\n",
      "2\n",
      "3\n",
      "4\n",
      "5\n",
      "6\n",
      "7\n",
      "8\n",
      "9\n",
      "10\n"
     ]
    }
   ],
   "source": [
    "print('for loop')\n",
    "for i in range(1, 11):\n",
    "    print(i)\n",
    "\n",
    "print('')\n",
    "print('while loop')\n",
    "i = 1\n",
    "while i < 11:\n",
    "    print(i)\n",
    "    i = i + 1"
   ]
  },
  {
   "cell_type": "markdown",
   "metadata": {},
   "source": [
    "14. If you had a function named bacon() inside a module spam, how would you call it after importing spam?\n",
    "    - spam.bacon()"
   ]
  },
  {
   "cell_type": "markdown",
   "metadata": {},
   "source": [
    "15. Extra credit: Look up the round() and abs() functions on the internet, and find out what they do. Experiment with them in the interactive shell.\n",
    "    - *abs()* returns the absolute value of a number (ie converts a negative to a positive) and *round()* returns the rounded-down value of a number, aka *floor()* in JavaScript"
   ]
  },
  {
   "cell_type": "code",
   "execution_count": 7,
   "metadata": {},
   "outputs": [
    {
     "data": {
      "text/plain": [
       "1"
      ]
     },
     "execution_count": 7,
     "metadata": {},
     "output_type": "execute_result"
    }
   ],
   "source": [
    "abs(-1)"
   ]
  },
  {
   "cell_type": "code",
   "execution_count": 8,
   "metadata": {},
   "outputs": [
    {
     "data": {
      "text/plain": [
       "0.012"
      ]
     },
     "execution_count": 8,
     "metadata": {},
     "output_type": "execute_result"
    }
   ],
   "source": [
    "abs(0.012)"
   ]
  },
  {
   "cell_type": "code",
   "execution_count": 9,
   "metadata": {},
   "outputs": [
    {
     "data": {
      "text/plain": [
       "4"
      ]
     },
     "execution_count": 9,
     "metadata": {},
     "output_type": "execute_result"
    }
   ],
   "source": [
    "round(3.5)"
   ]
  },
  {
   "cell_type": "code",
   "execution_count": 10,
   "metadata": {},
   "outputs": [
    {
     "data": {
      "text/plain": [
       "4"
      ]
     },
     "execution_count": 10,
     "metadata": {},
     "output_type": "execute_result"
    }
   ],
   "source": [
    "round(3.6)"
   ]
  },
  {
   "cell_type": "code",
   "execution_count": null,
   "metadata": {},
   "outputs": [],
   "source": []
  }
 ],
 "metadata": {
  "kernelspec": {
   "display_name": "Python 3",
   "language": "python",
   "name": "python3"
  },
  "language_info": {
   "codemirror_mode": {
    "name": "ipython",
    "version": 3
   },
   "file_extension": ".py",
   "mimetype": "text/x-python",
   "name": "python",
   "nbconvert_exporter": "python",
   "pygments_lexer": "ipython3",
   "version": "3.7.3"
  }
 },
 "nbformat": 4,
 "nbformat_minor": 2
}
