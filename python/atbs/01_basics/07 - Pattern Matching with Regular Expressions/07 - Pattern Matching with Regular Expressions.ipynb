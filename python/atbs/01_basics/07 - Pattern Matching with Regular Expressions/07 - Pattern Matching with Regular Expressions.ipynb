{
 "cells": [
  {
   "cell_type": "markdown",
   "metadata": {},
   "source": [
    "# 7 - Pattern Matching with Regular Expression\n",
    "Simply put, regular expression are types of expressions that allow you to search for patterns in text, including things like phone numbers, email addresses, social security numbers, etc. (I've skipped some of the explanatory sections of this chapter because it's very basic)\n",
    "\n",
    "## Finding patterns of text with regular expressions\n",
    "\n",
    "### Creating regex objects\n",
    "Regular expressions have their own data type: the Regex pattern object (or Regex object).  They also come with a number of functions that help us work with regexes. All regex functions are found in the Python re module.\n",
    "\n",
    "The *re.compile()* function returns a regex object\n"
   ]
  },
  {
   "cell_type": "code",
   "execution_count": 3,
   "metadata": {},
   "outputs": [],
   "source": [
    "import re\n",
    "\n",
    "phoneNumRegex = re.compile(r'\\d\\d\\d-\\d\\d\\d-\\d\\d\\d\\d')"
   ]
  },
  {
   "cell_type": "markdown",
   "metadata": {},
   "source": [
    "Now the phoneNumRegex variable contains a Regex object.\n",
    "\n",
    "### Matching regex objects\n"
   ]
  }
 ],
 "metadata": {
  "kernelspec": {
   "display_name": "Python 3",
   "language": "python",
   "name": "python3"
  },
  "language_info": {
   "codemirror_mode": {
    "name": "ipython",
    "version": 3
   },
   "file_extension": ".py",
   "mimetype": "text/x-python",
   "name": "python",
   "nbconvert_exporter": "python",
   "pygments_lexer": "ipython3",
   "version": "3.7.3"
  }
 },
 "nbformat": 4,
 "nbformat_minor": 4
}
